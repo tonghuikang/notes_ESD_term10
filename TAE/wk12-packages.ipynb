{
 "cells": [
  {
   "cell_type": "code",
   "execution_count": 1,
   "metadata": {},
   "outputs": [
    {
     "name": "stdout",
     "output_type": "stream",
     "text": [
      "\u001b[32m\u001b[1m    Status\u001b[22m\u001b[39m `~/.julia/environments/v1.3/Project.toml`\n",
      " \u001b[90m [7073ff75]\u001b[39m\u001b[37m IJulia v1.20.2\u001b[39m\n"
     ]
    }
   ],
   "source": [
    "import Pkg\n",
    "Pkg.status() # Check which packages have been installed"
   ]
  },
  {
   "cell_type": "code",
   "execution_count": 2,
   "metadata": {},
   "outputs": [
    {
     "name": "stdout",
     "output_type": "stream",
     "text": [
      "\u001b[32m\u001b[1m  Updating\u001b[22m\u001b[39m registry at `~/.julia/registries/General`\n",
      "\u001b[32m\u001b[1m  Updating\u001b[22m\u001b[39m git-repo `https://github.com/JuliaRegistries/General.git`\n",
      "\u001b[2K\u001b[?25h[1mFetching:\u001b[22m\u001b[39m [========================================>]  100.0 %.0 %\u001b[32m\u001b[1m Resolving\u001b[22m\u001b[39m package versions...\n",
      "\u001b[32m\u001b[1m  Updating\u001b[22m\u001b[39m `~/.julia/environments/v1.3/Project.toml`\n",
      "\u001b[90m [no changes]\u001b[39m\n",
      "\u001b[32m\u001b[1m  Updating\u001b[22m\u001b[39m `~/.julia/environments/v1.3/Manifest.toml`\n",
      "\u001b[90m [no changes]\u001b[39m\n"
     ]
    }
   ],
   "source": [
    "Pkg.update() # To update packages"
   ]
  },
  {
   "cell_type": "code",
   "execution_count": 3,
   "metadata": {},
   "outputs": [
    {
     "name": "stdout",
     "output_type": "stream",
     "text": [
      "\u001b[32m\u001b[1m Resolving\u001b[22m\u001b[39m package versions...\n",
      "\u001b[32m\u001b[1m Installed\u001b[22m\u001b[39m BenchmarkTools ─────── v0.4.3\n",
      "\u001b[32m\u001b[1m Installed\u001b[22m\u001b[39m SpecialFunctions ───── v0.9.0\n",
      "\u001b[32m\u001b[1m Installed\u001b[22m\u001b[39m StaticArrays ───────── v0.12.1\n",
      "\u001b[32m\u001b[1m Installed\u001b[22m\u001b[39m MathOptInterface ───── v0.9.7\n",
      "\u001b[32m\u001b[1m Installed\u001b[22m\u001b[39m DiffResults ────────── v0.0.4\n",
      "\u001b[32m\u001b[1m Installed\u001b[22m\u001b[39m CommonSubexpressions ─ v0.2.0\n",
      "\u001b[32m\u001b[1m Installed\u001b[22m\u001b[39m DiffRules ──────────── v0.1.0\n",
      "\u001b[32m\u001b[1m Installed\u001b[22m\u001b[39m NaNMath ────────────── v0.3.3\n",
      "\u001b[32m\u001b[1m Installed\u001b[22m\u001b[39m OrderedCollections ─── v1.1.0\n",
      "\u001b[32m\u001b[1m Installed\u001b[22m\u001b[39m ForwardDiff ────────── v0.10.7\n",
      "\u001b[32m\u001b[1m Installed\u001b[22m\u001b[39m OpenSpecFun_jll ────── v0.5.3+1\n",
      "\u001b[32m\u001b[1m Installed\u001b[22m\u001b[39m DataStructures ─────── v0.17.6\n",
      "\u001b[32m\u001b[1m Installed\u001b[22m\u001b[39m Calculus ───────────── v0.5.1\n",
      "\u001b[32m\u001b[1m Installed\u001b[22m\u001b[39m JuMP ───────────────── v0.20.1\n",
      "\u001b[32m\u001b[1m  Updating\u001b[22m\u001b[39m `~/.julia/environments/v1.3/Project.toml`\n",
      " \u001b[90m [4076af6c]\u001b[39m\u001b[92m + JuMP v0.20.1\u001b[39m\n",
      "\u001b[32m\u001b[1m  Updating\u001b[22m\u001b[39m `~/.julia/environments/v1.3/Manifest.toml`\n",
      " \u001b[90m [6e4b80f9]\u001b[39m\u001b[92m + BenchmarkTools v0.4.3\u001b[39m\n",
      " \u001b[90m [49dc2e85]\u001b[39m\u001b[92m + Calculus v0.5.1\u001b[39m\n",
      " \u001b[90m [bbf7d656]\u001b[39m\u001b[92m + CommonSubexpressions v0.2.0\u001b[39m\n",
      " \u001b[90m [864edb3b]\u001b[39m\u001b[92m + DataStructures v0.17.6\u001b[39m\n",
      " \u001b[90m [163ba53b]\u001b[39m\u001b[92m + DiffResults v0.0.4\u001b[39m\n",
      " \u001b[90m [b552c78f]\u001b[39m\u001b[92m + DiffRules v0.1.0\u001b[39m\n",
      " \u001b[90m [f6369f11]\u001b[39m\u001b[92m + ForwardDiff v0.10.7\u001b[39m\n",
      " \u001b[90m [4076af6c]\u001b[39m\u001b[92m + JuMP v0.20.1\u001b[39m\n",
      " \u001b[90m [b8f27783]\u001b[39m\u001b[92m + MathOptInterface v0.9.7\u001b[39m\n",
      " \u001b[90m [77ba4419]\u001b[39m\u001b[92m + NaNMath v0.3.3\u001b[39m\n",
      " \u001b[90m [efe28fd5]\u001b[39m\u001b[92m + OpenSpecFun_jll v0.5.3+1\u001b[39m\n",
      " \u001b[90m [bac558e1]\u001b[39m\u001b[92m + OrderedCollections v1.1.0\u001b[39m\n",
      " \u001b[90m [276daf66]\u001b[39m\u001b[92m + SpecialFunctions v0.9.0\u001b[39m\n",
      " \u001b[90m [90137ffa]\u001b[39m\u001b[92m + StaticArrays v0.12.1\u001b[39m\n",
      "\u001b[32m\u001b[1m Resolving\u001b[22m\u001b[39m package versions...\n",
      "\u001b[32m\u001b[1m Installed\u001b[22m\u001b[39m GLPK ─ v0.12.0\n",
      "\u001b[32m\u001b[1m  Updating\u001b[22m\u001b[39m `~/.julia/environments/v1.3/Project.toml`\n",
      " \u001b[90m [60bf3e95]\u001b[39m\u001b[92m + GLPK v0.12.0\u001b[39m\n",
      "\u001b[32m\u001b[1m  Updating\u001b[22m\u001b[39m `~/.julia/environments/v1.3/Manifest.toml`\n",
      " \u001b[90m [60bf3e95]\u001b[39m\u001b[92m + GLPK v0.12.0\u001b[39m\n",
      "\u001b[32m\u001b[1m  Building\u001b[22m\u001b[39m GLPK → `~/.julia/packages/GLPK/J1b5G/deps/build.log`\n",
      "\u001b[32m\u001b[1m Resolving\u001b[22m\u001b[39m package versions...\n",
      "\u001b[32m\u001b[1m Installed\u001b[22m\u001b[39m Cbc ────────── v0.6.6\n",
      "\u001b[32m\u001b[1m Installed\u001b[22m\u001b[39m MathProgBase ─ v0.7.7\n",
      "\u001b[32m\u001b[1m  Updating\u001b[22m\u001b[39m `~/.julia/environments/v1.3/Project.toml`\n",
      " \u001b[90m [9961bab8]\u001b[39m\u001b[92m + Cbc v0.6.6\u001b[39m\n",
      "\u001b[32m\u001b[1m  Updating\u001b[22m\u001b[39m `~/.julia/environments/v1.3/Manifest.toml`\n",
      " \u001b[90m [9961bab8]\u001b[39m\u001b[92m + Cbc v0.6.6\u001b[39m\n",
      " \u001b[90m [fdba3010]\u001b[39m\u001b[92m + MathProgBase v0.7.7\u001b[39m\n",
      "\u001b[32m\u001b[1m  Building\u001b[22m\u001b[39m Cbc → `~/.julia/packages/Cbc/vWzyC/deps/build.log`\n",
      "\u001b[32m\u001b[1m Resolving\u001b[22m\u001b[39m package versions...\n",
      "\u001b[32m\u001b[1m Installed\u001b[22m\u001b[39m Clp ─ v0.7.0\n",
      "\u001b[32m\u001b[1m  Updating\u001b[22m\u001b[39m `~/.julia/environments/v1.3/Project.toml`\n",
      " \u001b[90m [e2554f3b]\u001b[39m\u001b[92m + Clp v0.7.0\u001b[39m\n",
      "\u001b[32m\u001b[1m  Updating\u001b[22m\u001b[39m `~/.julia/environments/v1.3/Manifest.toml`\n",
      " \u001b[90m [e2554f3b]\u001b[39m\u001b[92m + Clp v0.7.0\u001b[39m\n",
      "\u001b[32m\u001b[1m  Building\u001b[22m\u001b[39m Clp → `~/.julia/packages/Clp/4DejL/deps/build.log`\n"
     ]
    }
   ],
   "source": [
    "# Install packages for Optimization\n",
    "Pkg.add(\"JuMP\") # package for defining optimization problem\n",
    "Pkg.add(\"GLPK\") # solver for LP\n",
    "# Pkg.add(\"GLPKMathProgInterface\") # solver for LP -- Interface with GLPK\n",
    "Pkg.add(\"Cbc\") # solver LP and MILP\n",
    "Pkg.add(\"Clp\") # solver for LP\n",
    "# Pkg.add(\"CPLEX\") # Working installation of CPLEX is needed in advance\n",
    "# Pkg.add(\"Gurobi\") # Working installation of Gurobi is needed in advance"
   ]
  },
  {
   "cell_type": "code",
   "execution_count": 4,
   "metadata": {},
   "outputs": [
    {
     "name": "stdout",
     "output_type": "stream",
     "text": [
      "\u001b[32m\u001b[1m Resolving\u001b[22m\u001b[39m package versions...\n",
      "\u001b[32m\u001b[1m Installed\u001b[22m\u001b[39m TableTraits ───────────────── v1.0.0\n",
      "\u001b[32m\u001b[1m Installed\u001b[22m\u001b[39m Tables ────────────────────── v0.2.11\n",
      "\u001b[32m\u001b[1m Installed\u001b[22m\u001b[39m DataAPI ───────────────────── v1.1.0\n",
      "\u001b[32m\u001b[1m Installed\u001b[22m\u001b[39m PooledArrays ──────────────── v0.5.2\n",
      "\u001b[32m\u001b[1m Installed\u001b[22m\u001b[39m DataFrames ────────────────── v0.19.4\n",
      "\u001b[32m\u001b[1m Installed\u001b[22m\u001b[39m Reexport ──────────────────── v0.2.0\n",
      "\u001b[32m\u001b[1m Installed\u001b[22m\u001b[39m Missings ──────────────────── v0.4.3\n",
      "\u001b[32m\u001b[1m Installed\u001b[22m\u001b[39m InvertedIndices ───────────── v1.0.0\n",
      "\u001b[32m\u001b[1m Installed\u001b[22m\u001b[39m IteratorInterfaceExtensions ─ v1.0.0\n",
      "\u001b[32m\u001b[1m Installed\u001b[22m\u001b[39m SortingAlgorithms ─────────── v0.3.1\n",
      "\u001b[32m\u001b[1m Installed\u001b[22m\u001b[39m DataValueInterfaces ───────── v1.0.0\n",
      "\u001b[32m\u001b[1m Installed\u001b[22m\u001b[39m CategoricalArrays ─────────── v0.7.3\n",
      "\u001b[32m\u001b[1m  Updating\u001b[22m\u001b[39m `~/.julia/environments/v1.3/Project.toml`\n",
      " \u001b[90m [a93c6f00]\u001b[39m\u001b[92m + DataFrames v0.19.4\u001b[39m\n",
      "\u001b[32m\u001b[1m  Updating\u001b[22m\u001b[39m `~/.julia/environments/v1.3/Manifest.toml`\n",
      " \u001b[90m [324d7699]\u001b[39m\u001b[92m + CategoricalArrays v0.7.3\u001b[39m\n",
      " \u001b[90m [9a962f9c]\u001b[39m\u001b[92m + DataAPI v1.1.0\u001b[39m\n",
      " \u001b[90m [a93c6f00]\u001b[39m\u001b[92m + DataFrames v0.19.4\u001b[39m\n",
      " \u001b[90m [e2d170a0]\u001b[39m\u001b[92m + DataValueInterfaces v1.0.0\u001b[39m\n",
      " \u001b[90m [41ab1584]\u001b[39m\u001b[92m + InvertedIndices v1.0.0\u001b[39m\n",
      " \u001b[90m [82899510]\u001b[39m\u001b[92m + IteratorInterfaceExtensions v1.0.0\u001b[39m\n",
      " \u001b[90m [e1d29d7a]\u001b[39m\u001b[92m + Missings v0.4.3\u001b[39m\n",
      " \u001b[90m [2dfb63ee]\u001b[39m\u001b[92m + PooledArrays v0.5.2\u001b[39m\n",
      " \u001b[90m [189a3867]\u001b[39m\u001b[92m + Reexport v0.2.0\u001b[39m\n",
      " \u001b[90m [a2af1166]\u001b[39m\u001b[92m + SortingAlgorithms v0.3.1\u001b[39m\n",
      " \u001b[90m [3783bdb8]\u001b[39m\u001b[92m + TableTraits v1.0.0\u001b[39m\n",
      " \u001b[90m [bd369af6]\u001b[39m\u001b[92m + Tables v0.2.11\u001b[39m\n",
      " \u001b[90m [9fa8497b]\u001b[39m\u001b[92m + Future \u001b[39m\n"
     ]
    }
   ],
   "source": [
    "# Install packages for handling DataFrames\n",
    "Pkg.add(\"DataFrames\")"
   ]
  },
  {
   "cell_type": "code",
   "execution_count": 4,
   "metadata": {},
   "outputs": [
    {
     "name": "stdout",
     "output_type": "stream",
     "text": [
      "\u001b[32m\u001b[1m  Updating\u001b[22m\u001b[39m `~/.julia/environments/v1.0/Project.toml`\n",
      " \u001b[90m [3c7084bd]\u001b[39m\u001b[91m - GLPKMathProgInterface v0.4.4\u001b[39m\n",
      "\u001b[32m\u001b[1m  Updating\u001b[22m\u001b[39m `~/.julia/environments/v1.0/Manifest.toml`\n",
      " \u001b[90m [3c7084bd]\u001b[39m\u001b[91m - GLPKMathProgInterface v0.4.4\u001b[39m\n"
     ]
    }
   ],
   "source": [
    "# Remove package\n",
    "# Pkg.rm(\"GLPKMathProgInterface\")"
   ]
  },
  {
   "cell_type": "code",
   "execution_count": null,
   "metadata": {},
   "outputs": [],
   "source": []
  }
 ],
 "metadata": {
  "kernelspec": {
   "display_name": "Julia 1.3.0",
   "language": "julia",
   "name": "julia-1.3"
  },
  "language_info": {
   "file_extension": ".jl",
   "mimetype": "application/julia",
   "name": "julia",
   "version": "1.3.0"
  }
 },
 "nbformat": 4,
 "nbformat_minor": 2
}
