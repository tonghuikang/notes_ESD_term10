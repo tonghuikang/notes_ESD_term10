{
 "cells": [
  {
   "cell_type": "code",
   "execution_count": 8,
   "metadata": {},
   "outputs": [
    {
     "data": {
      "text/latex": [
       "$$ \\begin{alignat*}{1}\\text{feasibility}\\\\\n",
       "\\text{Subject to} \\quad\\end{alignat*}\n",
       " $$"
      ],
      "text/plain": [
       "A JuMP Model\n",
       "Feasibility problem with:\n",
       "Variables: 0\n",
       "Model mode: AUTOMATIC\n",
       "CachingOptimizer state: EMPTY_OPTIMIZER\n",
       "Solver name: GLPK"
      ]
     },
     "execution_count": 8,
     "metadata": {},
     "output_type": "execute_result"
    }
   ],
   "source": [
    "# LOAD PACKAGES\n",
    "# -------------\n",
    "using JuMP  # Need to say it whenever we use JuMP\n",
    "using GLPK # Loading the GLPK module for using its solver\n",
    "\n",
    "# MODEL CONSTRUCTION\n",
    "# ------------------\n",
    "sfLpModel = Model(with_optimizer(GLPK.Optimizer)) "
   ]
  },
  {
   "cell_type": "code",
   "execution_count": 9,
   "metadata": {},
   "outputs": [
    {
     "data": {
      "text/plain": [
       "(3, 4)"
      ]
     },
     "execution_count": 9,
     "metadata": {},
     "output_type": "execute_result"
    }
   ],
   "source": [
    "# INPUT DATA\n",
    "# ----------\n",
    "\n",
    "# Coefficients for cTx\n",
    "c = [1; 3; 5; 2] \n",
    "\n",
    "# Coefficients for Ax = b\n",
    "A = [1 1 9 5; 3 5 0 8; 2 0 6 13]\n",
    "b = [7; 3; 5] \n",
    "\n",
    "# Number of constraints (m) and decision variables (n)\n",
    "m, n = size(A) "
   ]
  },
  {
   "cell_type": "code",
   "execution_count": 10,
   "metadata": {},
   "outputs": [
    {
     "data": {
      "text/plain": [
       "4-element Array{VariableRef,1}:\n",
       " x[1]\n",
       " x[2]\n",
       " x[3]\n",
       " x[4]"
      ]
     },
     "execution_count": 10,
     "metadata": {},
     "output_type": "execute_result"
    }
   ],
   "source": [
    "# VARIABLES\n",
    "# ---------\n",
    "\n",
    "# We work with the vector of decision variables\n",
    "@variable(sfLpModel, x[1:n] >= 0) "
   ]
  },
  {
   "cell_type": "code",
   "execution_count": 11,
   "metadata": {},
   "outputs": [
    {
     "data": {
      "text/plain": [
       "3-element Array{ConstraintRef{Model,C,Shape} where Shape<:AbstractShape where C,1}:\n",
       " con[1] : x[1] + x[2] + 9 x[3] + 5 x[4] = 7.0\n",
       " con[2] : 3 x[1] + 5 x[2] + 8 x[4] = 3.0     \n",
       " con[3] : 2 x[1] + 6 x[3] + 13 x[4] = 5.0    "
      ]
     },
     "execution_count": 11,
     "metadata": {},
     "output_type": "execute_result"
    }
   ],
   "source": [
    "# CONSTRAINTS\n",
    "# -----------\n",
    "\n",
    "# We define a vector of constraints\n",
    "@constraint(sfLpModel, con[i = 1:3], A[i,:]'x == b[i]) "
   ]
  },
  {
   "cell_type": "code",
   "execution_count": 12,
   "metadata": {
    "scrolled": true
   },
   "outputs": [
    {
     "name": "stdout",
     "output_type": "stream",
     "text": [
      "The optimization problem to be solved is:\n",
      "Min x[1] + 3 x[2] + 5 x[3] + 2 x[4]\n",
      "Subject to\n",
      " x[1] + x[2] + 9 x[3] + 5 x[4] = 7.0\n",
      " 3 x[1] + 5 x[2] + 8 x[4] = 3.0\n",
      " 2 x[1] + 6 x[3] + 13 x[4] = 5.0\n",
      " x[1] ≥ 0.0\n",
      " x[2] ≥ 0.0\n",
      " x[3] ≥ 0.0\n",
      " x[4] ≥ 0.0\n"
     ]
    }
   ],
   "source": [
    "# OBJECTIVE\n",
    "# ---------\n",
    "\n",
    "# Minimize cTx\n",
    "@objective(sfLpModel, Min, c'x)  \n",
    "\n",
    "# PRINT THE MODEL IN A HUMAN-READABLE FORMAT\n",
    "# ------------------------------------------\n",
    "println(\"The optimization problem to be solved is:\")\n",
    "print(sfLpModel) # Shows the model constructed in a human-readable form"
   ]
  },
  {
   "cell_type": "code",
   "execution_count": 13,
   "metadata": {},
   "outputs": [],
   "source": [
    "# SOLVE IT\n",
    "# --------\n",
    "\n",
    "status = optimize!(sfLpModel) # solves the model  "
   ]
  },
  {
   "cell_type": "code",
   "execution_count": 14,
   "metadata": {},
   "outputs": [
    {
     "name": "stdout",
     "output_type": "stream",
     "text": [
      "Objective value: 4.9230769230769225\n",
      "x = [0.4230769230769232, 0.34615384615384615, 0.6923076923076922, 0.0]\n"
     ]
    }
   ],
   "source": [
    "# DISPLAY THE RESULTS\n",
    "# -------------------\n",
    "\n",
    "println(\"Objective value: \", JuMP.objective_value(sfLpModel)) \n",
    "println(\"x = \", JuMP.value.(x)) "
   ]
  },
  {
   "cell_type": "code",
   "execution_count": null,
   "metadata": {},
   "outputs": [],
   "source": []
  }
 ],
 "metadata": {
  "kernelspec": {
   "display_name": "Julia 1.3.0",
   "language": "julia",
   "name": "julia-1.3"
  },
  "language_info": {
   "file_extension": ".jl",
   "mimetype": "application/julia",
   "name": "julia",
   "version": "1.3.0"
  }
 },
 "nbformat": 4,
 "nbformat_minor": 2
}
