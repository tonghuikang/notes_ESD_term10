{
 "cells": [
  {
   "cell_type": "markdown",
   "metadata": {},
   "source": [
    "# PREPROCESSING\n",
    "- Load the data\n",
    "- Feature extraction\n",
    "- Text cleaning\n",
    "- Convert to matrix\n",
    "\n",
    "This is applied on the entire dataset."
   ]
  },
  {
   "cell_type": "code",
   "execution_count": 1,
   "metadata": {},
   "outputs": [],
   "source": [
    "rm(list=ls())"
   ]
  },
  {
   "cell_type": "markdown",
   "metadata": {},
   "source": [
    "# Variables\n",
    "Main variables are organised here for the ease of edit"
   ]
  },
  {
   "cell_type": "code",
   "execution_count": 2,
   "metadata": {},
   "outputs": [],
   "source": [
    "DTM_SPARSITY <- 0.99985\n",
    "\n",
    "ACTIVATE_CHAR_STRING <- TRUE\n",
    "CHAR_STRING <- \"\\\"!#$%&',./|~(){}[]*?+-:;<=>^_`\"\n",
    "# CHAR_STRING <- \"\\\"!#$%&',./0123456789:;<=>@ABCDEFGHIJKLMNOPQRSTUVWXYZ^_`abcdefghijklmnopqrstuvwxyz|~(){}[]*?+-\"\n",
    "\n",
    "ACTIVATE_PHARSE_LIST <- TRUE\n",
    "PHARSE_LIST <- c(\n",
    "     \"{link}\", \":)\",\"&lt;3\", \"@mention\", \":D\", \":(\"\n",
    ")\n",
    "\n",
    "# random forest\n",
    "RF_NODESIZE <- 1\n",
    "RF_NTREE    <- 500"
   ]
  },
  {
   "cell_type": "markdown",
   "metadata": {},
   "source": [
    "# Load Data"
   ]
  },
  {
   "cell_type": "code",
   "execution_count": 3,
   "metadata": {},
   "outputs": [],
   "source": [
    "library(tictoc) # to measure time taken to execute"
   ]
  },
  {
   "cell_type": "code",
   "execution_count": 4,
   "metadata": {},
   "outputs": [],
   "source": [
    "train <- read.csv(\"../input/2019tae/train.csv\")\n",
    "test <- read.csv(\"../input/2019tae/test.csv\")\n",
    "train <- train[sample(nrow(train)),]  # shuffle training set for good measure"
   ]
  },
  {
   "cell_type": "code",
   "execution_count": 5,
   "metadata": {},
   "outputs": [
    {
     "data": {
      "text/html": [
       "<table>\n",
       "<caption>A data.frame: 11 × 3</caption>\n",
       "<thead>\n",
       "\t<tr><th></th><th scope=col>tweet</th><th scope=col>sentiment</th><th scope=col>Id</th></tr>\n",
       "\t<tr><th></th><th scope=col>&lt;fct&gt;</th><th scope=col>&lt;int&gt;</th><th scope=col>&lt;int&gt;</th></tr>\n",
       "</thead>\n",
       "<tbody>\n",
       "\t<tr><th scope=row>22495</th><td>Statesville, NC Weather - 10:00 AM- Fair Skies, Temp: 69.4, Wind: 1.4, Rain Today: 0.00                                                 </td><td> 2</td><td>NA</td></tr>\n",
       "\t<tr><th scope=row>22496</th><td>Wtf its raining?!!! I need a cuddle boo in this crazy weather :-/                                                                       </td><td> 1</td><td>NA</td></tr>\n",
       "\t<tr><th scope=row>22497</th><td>@mention Haa thanks:) yeh I'm fine thanks enjoying the lovely hot sun over here:) what's the weather like in England? X                 </td><td> 3</td><td>NA</td></tr>\n",
       "\t<tr><th scope=row>22498</th><td>#WEATHER:  6:52 am : 62.0F. Feels F. 29.76% Humidity. 0.0MPH North Wind.                                                                </td><td> 2</td><td>NA</td></tr>\n",
       "\t<tr><th scope=row>22499</th><td>Fuck this weather duude                                                                                                                 </td><td> 1</td><td>NA</td></tr>\n",
       "\t<tr><th scope=row>22500</th><td>Storm center in Norman predicting up to golf ball-sized hail in #stwok with winds gusting up to 60 mph. Warning through 4:45 pm         </td><td> 2</td><td>NA</td></tr>\n",
       "\t<tr><th scope=row>22501</th><td>#WEATHER:  2:55 pm : 93.0F. Feels F. 29.92% Humidity. 10.4MPH Southwest Wind.                                                           </td><td>NA</td><td> 1</td></tr>\n",
       "\t<tr><th scope=row>22502</th><td><span style=white-space:pre-wrap>RT @mention: We are looking forward to dinner with the @mention folks on Sat...weather looks awesome!  #GleekRetreat11 &amp;lt;&amp;lt; excited!</span></td><td>NA</td><td> 2</td></tr>\n",
       "\t<tr><th scope=row>22503</th><td>The grill is hot, BBQ chicken is cookin', beer in hand, beautiful weather, and the boys enjoying their play set. #goodtimes             </td><td>NA</td><td> 3</td></tr>\n",
       "\t<tr><th scope=row>22504</th><td><span style=white-space:pre-wrap>Dinner with the hubby. &amp;lt;3 Candle-lit table....on the river walk...nice weather.... Just lovely. (@ Acenar w/ 2 others) {link}        </span></td><td>NA</td><td> 4</td></tr>\n",
       "\t<tr><th scope=row>22505</th><td>SUP on town lake! Great weather for it!                                                                                                 </td><td>NA</td><td> 5</td></tr>\n",
       "</tbody>\n",
       "</table>\n"
      ],
      "text/latex": [
       "A data.frame: 11 × 3\n",
       "\\begin{tabular}{r|lll}\n",
       "  & tweet & sentiment & Id\\\\\n",
       "  & <fct> & <int> & <int>\\\\\n",
       "\\hline\n",
       "\t22495 & Statesville, NC Weather - 10:00 AM- Fair Skies, Temp: 69.4, Wind: 1.4, Rain Today: 0.00                                                  &  2 & NA\\\\\n",
       "\t22496 & Wtf its raining?!!! I need a cuddle boo in this crazy weather :-/                                                                        &  1 & NA\\\\\n",
       "\t22497 & @mention Haa thanks:) yeh I'm fine thanks enjoying the lovely hot sun over here:) what's the weather like in England? X                  &  3 & NA\\\\\n",
       "\t22498 & \\#WEATHER:  6:52 am : 62.0F. Feels F. 29.76\\% Humidity. 0.0MPH North Wind.                                                                 &  2 & NA\\\\\n",
       "\t22499 & Fuck this weather duude                                                                                                                  &  1 & NA\\\\\n",
       "\t22500 & Storm center in Norman predicting up to golf ball-sized hail in \\#stwok with winds gusting up to 60 mph. Warning through 4:45 pm          &  2 & NA\\\\\n",
       "\t22501 & \\#WEATHER:  2:55 pm : 93.0F. Feels F. 29.92\\% Humidity. 10.4MPH Southwest Wind.                                                            & NA &  1\\\\\n",
       "\t22502 & RT @mention: We are looking forward to dinner with the @mention folks on Sat...weather looks awesome!  \\#GleekRetreat11 \\&lt;\\&lt; excited! & NA &  2\\\\\n",
       "\t22503 & The grill is hot, BBQ chicken is cookin', beer in hand, beautiful weather, and the boys enjoying their play set. \\#goodtimes              & NA &  3\\\\\n",
       "\t22504 & Dinner with the hubby. \\&lt;3 Candle-lit table....on the river walk...nice weather.... Just lovely. (@ Acenar w/ 2 others) \\{link\\}         & NA &  4\\\\\n",
       "\t22505 & SUP on town lake! Great weather for it!                                                                                                  & NA &  5\\\\\n",
       "\\end{tabular}\n"
      ],
      "text/markdown": [
       "\n",
       "A data.frame: 11 × 3\n",
       "\n",
       "| <!--/--> | tweet &lt;fct&gt; | sentiment &lt;int&gt; | Id &lt;int&gt; |\n",
       "|---|---|---|---|\n",
       "| 22495 | Statesville, NC Weather - 10:00 AM- Fair Skies, Temp: 69.4, Wind: 1.4, Rain Today: 0.00                                                  |  2 | NA |\n",
       "| 22496 | Wtf its raining?!!! I need a cuddle boo in this crazy weather :-/                                                                        |  1 | NA |\n",
       "| 22497 | @mention Haa thanks:) yeh I'm fine thanks enjoying the lovely hot sun over here:) what's the weather like in England? X                  |  3 | NA |\n",
       "| 22498 | #WEATHER:  6:52 am : 62.0F. Feels F. 29.76% Humidity. 0.0MPH North Wind.                                                                 |  2 | NA |\n",
       "| 22499 | Fuck this weather duude                                                                                                                  |  1 | NA |\n",
       "| 22500 | Storm center in Norman predicting up to golf ball-sized hail in #stwok with winds gusting up to 60 mph. Warning through 4:45 pm          |  2 | NA |\n",
       "| 22501 | #WEATHER:  2:55 pm : 93.0F. Feels F. 29.92% Humidity. 10.4MPH Southwest Wind.                                                            | NA |  1 |\n",
       "| 22502 | RT @mention: We are looking forward to dinner with the @mention folks on Sat...weather looks awesome!  #GleekRetreat11 &amp;lt;&amp;lt; excited! | NA |  2 |\n",
       "| 22503 | The grill is hot, BBQ chicken is cookin', beer in hand, beautiful weather, and the boys enjoying their play set. #goodtimes              | NA |  3 |\n",
       "| 22504 | Dinner with the hubby. &amp;lt;3 Candle-lit table....on the river walk...nice weather.... Just lovely. (@ Acenar w/ 2 others) {link}         | NA |  4 |\n",
       "| 22505 | SUP on town lake! Great weather for it!                                                                                                  | NA |  5 |\n",
       "\n"
      ],
      "text/plain": [
       "      tweet                                                                                                                                   \n",
       "22495 Statesville, NC Weather - 10:00 AM- Fair Skies, Temp: 69.4, Wind: 1.4, Rain Today: 0.00                                                 \n",
       "22496 Wtf its raining?!!! I need a cuddle boo in this crazy weather :-/                                                                       \n",
       "22497 @mention Haa thanks:) yeh I'm fine thanks enjoying the lovely hot sun over here:) what's the weather like in England? X                 \n",
       "22498 #WEATHER:  6:52 am : 62.0F. Feels F. 29.76% Humidity. 0.0MPH North Wind.                                                                \n",
       "22499 Fuck this weather duude                                                                                                                 \n",
       "22500 Storm center in Norman predicting up to golf ball-sized hail in #stwok with winds gusting up to 60 mph. Warning through 4:45 pm         \n",
       "22501 #WEATHER:  2:55 pm : 93.0F. Feels F. 29.92% Humidity. 10.4MPH Southwest Wind.                                                           \n",
       "22502 RT @mention: We are looking forward to dinner with the @mention folks on Sat...weather looks awesome!  #GleekRetreat11 &lt;&lt; excited!\n",
       "22503 The grill is hot, BBQ chicken is cookin', beer in hand, beautiful weather, and the boys enjoying their play set. #goodtimes             \n",
       "22504 Dinner with the hubby. &lt;3 Candle-lit table....on the river walk...nice weather.... Just lovely. (@ Acenar w/ 2 others) {link}        \n",
       "22505 SUP on town lake! Great weather for it!                                                                                                 \n",
       "      sentiment Id\n",
       "22495  2        NA\n",
       "22496  1        NA\n",
       "22497  3        NA\n",
       "22498  2        NA\n",
       "22499  1        NA\n",
       "22500  2        NA\n",
       "22501 NA         1\n",
       "22502 NA         2\n",
       "22503 NA         3\n",
       "22504 NA         4\n",
       "22505 NA         5"
      ]
     },
     "metadata": {},
     "output_type": "display_data"
    }
   ],
   "source": [
    "library(plyr)\n",
    "combined <- rbind.fill(train, test)\n",
    "combined[22495:22505,]"
   ]
  },
  {
   "cell_type": "markdown",
   "metadata": {},
   "source": [
    "Observe a random sample"
   ]
  },
  {
   "cell_type": "code",
   "execution_count": 6,
   "metadata": {},
   "outputs": [
    {
     "data": {
      "text/html": [
       "<table>\n",
       "<caption>A data.frame: 20 × 3</caption>\n",
       "<thead>\n",
       "\t<tr><th></th><th scope=col>tweet</th><th scope=col>sentiment</th><th scope=col>Id</th></tr>\n",
       "\t<tr><th></th><th scope=col>&lt;fct&gt;</th><th scope=col>&lt;int&gt;</th><th scope=col>&lt;int&gt;</th></tr>\n",
       "</thead>\n",
       "<tbody>\n",
       "\t<tr><th scope=row>20428</th><td>RT @mention: Severe weather today will stay in eastern Okla... {link}                                                                     </td><td> 2</td><td>  NA</td></tr>\n",
       "\t<tr><th scope=row>28636</th><td>Storm clouds moving in. It's time to fire up Motion Pics app to capture a time lapse video. My past attempt {link}                        </td><td>NA</td><td>6136</td></tr>\n",
       "\t<tr><th scope=row>23000</th><td>@mention hope u play today :) shame about the weather                                                                                     </td><td>NA</td><td> 500</td></tr>\n",
       "\t<tr><th scope=row>8223</th><td>My butt cheeks are going to fall of they are so cold. I hate when its cold and rainy and im stuck outside                                 </td><td> 1</td><td>  NA</td></tr>\n",
       "\t<tr><th scope=row>7198</th><td>Woke up to the sound of a thunderstorm and hail this morning.                                                                             </td><td> 2</td><td>  NA</td></tr>\n",
       "\t<tr><th scope=row>26624</th><td>Wtf what happened to the gorgeous weather                                                                                                 </td><td>NA</td><td>4124</td></tr>\n",
       "\t<tr><th scope=row>26490</th><td>Probably just crappy here, could be sunny there. RT @mention: @mention @mention @mention it's not too bad, we will have fun!!             </td><td>NA</td><td>3990</td></tr>\n",
       "\t<tr><th scope=row>16736</th><td>Waiting for my best pal to come pick me up for a ride in her convertible MiniCooper. Windy as all get out here in MN. This could go badly.</td><td> 1</td><td>  NA</td></tr>\n",
       "\t<tr><th scope=row>8946</th><td>Shorty do look like the weather outside today tho.....#Nice                                                                               </td><td> 3</td><td>  NA</td></tr>\n",
       "\t<tr><th scope=row>27318</th><td><span style=white-space:pre-wrap>YanezWeatherBlog: Drought, Humidity, Heat &amp; Maybe Rain {link}                                                                             </span></td><td>NA</td><td>4818</td></tr>\n",
       "\t<tr><th scope=row>21784</th><td>Friday afternoon shopping, sunshine, margaritas, happiness!                                                                               </td><td> 3</td><td>  NA</td></tr>\n",
       "\t<tr><th scope=row>29347</th><td>RT @mention: It's mid May and my faux fireplace is cranked because I'm freezing. The world is definitely ending on Saturday.              </td><td>NA</td><td>6847</td></tr>\n",
       "\t<tr><th scope=row>23562</th><td>RT @mention: It's hot as hell outside!                                                                                                    </td><td>NA</td><td>1062</td></tr>\n",
       "\t<tr><th scope=row>5192</th><td>The weather is perfect maybe this is a sign hmmmm                                                                                         </td><td> 3</td><td>  NA</td></tr>\n",
       "\t<tr><th scope=row>21792</th><td>80 degrees tommorrow...good day to hit the beach                                                                                          </td><td> 3</td><td>  NA</td></tr>\n",
       "\t<tr><th scope=row>2489</th><td><span style=white-space:pre-wrap>dang its hot out there..im def stayin in the house..plus gas too high anyway..&amp; i aint tryna go broke..                                   </span></td><td> 1</td><td><span style=white-space:pre-wrap>  NA</span></td></tr>\n",
       "\t<tr><th scope=row>29059</th><td>\"Today is a perfect day to go to the library, cause its really warm outside. I wish they would make an outside library.\"                  </td><td>NA</td><td>6559</td></tr>\n",
       "\t<tr><th scope=row>9608</th><td>RT @mention: Small rotating storm NW of Weatherford {link}                                                                                </td><td> 2</td><td>  NA</td></tr>\n",
       "\t<tr><th scope=row>23228</th><td>Time for a jog before it starts to storm again. {link} @mention #LinkinPark                                                               </td><td>NA</td><td> 728</td></tr>\n",
       "\t<tr><th scope=row>10789</th><td>Want a real hike come up 2 the HDRT @mention We are about to hike up to this sign. #Hollywood.  Weather is great.                         </td><td> 3</td><td>  NA</td></tr>\n",
       "</tbody>\n",
       "</table>\n"
      ],
      "text/latex": [
       "A data.frame: 20 × 3\n",
       "\\begin{tabular}{r|lll}\n",
       "  & tweet & sentiment & Id\\\\\n",
       "  & <fct> & <int> & <int>\\\\\n",
       "\\hline\n",
       "\t20428 & RT @mention: Severe weather today will stay in eastern Okla... \\{link\\}                                                                      &  2 &   NA\\\\\n",
       "\t28636 & Storm clouds moving in. It's time to fire up Motion Pics app to capture a time lapse video. My past attempt \\{link\\}                         & NA & 6136\\\\\n",
       "\t23000 & @mention hope u play today :) shame about the weather                                                                                      & NA &  500\\\\\n",
       "\t8223 & My butt cheeks are going to fall of they are so cold. I hate when its cold and rainy and im stuck outside                                  &  1 &   NA\\\\\n",
       "\t7198 & Woke up to the sound of a thunderstorm and hail this morning.                                                                              &  2 &   NA\\\\\n",
       "\t26624 & Wtf what happened to the gorgeous weather                                                                                                  & NA & 4124\\\\\n",
       "\t26490 & Probably just crappy here, could be sunny there. RT @mention: @mention @mention @mention it's not too bad, we will have fun!!              & NA & 3990\\\\\n",
       "\t16736 & Waiting for my best pal to come pick me up for a ride in her convertible MiniCooper. Windy as all get out here in MN. This could go badly. &  1 &   NA\\\\\n",
       "\t8946 & Shorty do look like the weather outside today tho.....\\#Nice                                                                                &  3 &   NA\\\\\n",
       "\t27318 & YanezWeatherBlog: Drought, Humidity, Heat \\& Maybe Rain \\{link\\}                                                                              & NA & 4818\\\\\n",
       "\t21784 & Friday afternoon shopping, sunshine, margaritas, happiness!                                                                                &  3 &   NA\\\\\n",
       "\t29347 & RT @mention: It's mid May and my faux fireplace is cranked because I'm freezing. The world is definitely ending on Saturday.               & NA & 6847\\\\\n",
       "\t23562 & RT @mention: It's hot as hell outside!                                                                                                     & NA & 1062\\\\\n",
       "\t5192 & The weather is perfect maybe this is a sign hmmmm                                                                                          &  3 &   NA\\\\\n",
       "\t21792 & 80 degrees tommorrow...good day to hit the beach                                                                                           &  3 &   NA\\\\\n",
       "\t2489 & dang its hot out there..im def stayin in the house..plus gas too high anyway..\\& i aint tryna go broke..                                    &  1 &   NA\\\\\n",
       "\t29059 & \"Today is a perfect day to go to the library, cause its really warm outside. I wish they would make an outside library.\"                   & NA & 6559\\\\\n",
       "\t9608 & RT @mention: Small rotating storm NW of Weatherford \\{link\\}                                                                                 &  2 &   NA\\\\\n",
       "\t23228 & Time for a jog before it starts to storm again. \\{link\\} @mention \\#LinkinPark                                                                & NA &  728\\\\\n",
       "\t10789 & Want a real hike come up 2 the HDRT @mention We are about to hike up to this sign. \\#Hollywood.  Weather is great.                          &  3 &   NA\\\\\n",
       "\\end{tabular}\n"
      ],
      "text/markdown": [
       "\n",
       "A data.frame: 20 × 3\n",
       "\n",
       "| <!--/--> | tweet &lt;fct&gt; | sentiment &lt;int&gt; | Id &lt;int&gt; |\n",
       "|---|---|---|---|\n",
       "| 20428 | RT @mention: Severe weather today will stay in eastern Okla... {link}                                                                      |  2 |   NA |\n",
       "| 28636 | Storm clouds moving in. It's time to fire up Motion Pics app to capture a time lapse video. My past attempt {link}                         | NA | 6136 |\n",
       "| 23000 | @mention hope u play today :) shame about the weather                                                                                      | NA |  500 |\n",
       "| 8223 | My butt cheeks are going to fall of they are so cold. I hate when its cold and rainy and im stuck outside                                  |  1 |   NA |\n",
       "| 7198 | Woke up to the sound of a thunderstorm and hail this morning.                                                                              |  2 |   NA |\n",
       "| 26624 | Wtf what happened to the gorgeous weather                                                                                                  | NA | 4124 |\n",
       "| 26490 | Probably just crappy here, could be sunny there. RT @mention: @mention @mention @mention it's not too bad, we will have fun!!              | NA | 3990 |\n",
       "| 16736 | Waiting for my best pal to come pick me up for a ride in her convertible MiniCooper. Windy as all get out here in MN. This could go badly. |  1 |   NA |\n",
       "| 8946 | Shorty do look like the weather outside today tho.....#Nice                                                                                |  3 |   NA |\n",
       "| 27318 | YanezWeatherBlog: Drought, Humidity, Heat &amp; Maybe Rain {link}                                                                              | NA | 4818 |\n",
       "| 21784 | Friday afternoon shopping, sunshine, margaritas, happiness!                                                                                |  3 |   NA |\n",
       "| 29347 | RT @mention: It's mid May and my faux fireplace is cranked because I'm freezing. The world is definitely ending on Saturday.               | NA | 6847 |\n",
       "| 23562 | RT @mention: It's hot as hell outside!                                                                                                     | NA | 1062 |\n",
       "| 5192 | The weather is perfect maybe this is a sign hmmmm                                                                                          |  3 |   NA |\n",
       "| 21792 | 80 degrees tommorrow...good day to hit the beach                                                                                           |  3 |   NA |\n",
       "| 2489 | dang its hot out there..im def stayin in the house..plus gas too high anyway..&amp; i aint tryna go broke..                                    |  1 |   NA |\n",
       "| 29059 | \"Today is a perfect day to go to the library, cause its really warm outside. I wish they would make an outside library.\"                   | NA | 6559 |\n",
       "| 9608 | RT @mention: Small rotating storm NW of Weatherford {link}                                                                                 |  2 |   NA |\n",
       "| 23228 | Time for a jog before it starts to storm again. {link} @mention #LinkinPark                                                                | NA |  728 |\n",
       "| 10789 | Want a real hike come up 2 the HDRT @mention We are about to hike up to this sign. #Hollywood.  Weather is great.                          |  3 |   NA |\n",
       "\n"
      ],
      "text/plain": [
       "      tweet                                                                                                                                     \n",
       "20428 RT @mention: Severe weather today will stay in eastern Okla... {link}                                                                     \n",
       "28636 Storm clouds moving in. It's time to fire up Motion Pics app to capture a time lapse video. My past attempt {link}                        \n",
       "23000 @mention hope u play today :) shame about the weather                                                                                     \n",
       "8223  My butt cheeks are going to fall of they are so cold. I hate when its cold and rainy and im stuck outside                                 \n",
       "7198  Woke up to the sound of a thunderstorm and hail this morning.                                                                             \n",
       "26624 Wtf what happened to the gorgeous weather                                                                                                 \n",
       "26490 Probably just crappy here, could be sunny there. RT @mention: @mention @mention @mention it's not too bad, we will have fun!!             \n",
       "16736 Waiting for my best pal to come pick me up for a ride in her convertible MiniCooper. Windy as all get out here in MN. This could go badly.\n",
       "8946  Shorty do look like the weather outside today tho.....#Nice                                                                               \n",
       "27318 YanezWeatherBlog: Drought, Humidity, Heat & Maybe Rain {link}                                                                             \n",
       "21784 Friday afternoon shopping, sunshine, margaritas, happiness!                                                                               \n",
       "29347 RT @mention: It's mid May and my faux fireplace is cranked because I'm freezing. The world is definitely ending on Saturday.              \n",
       "23562 RT @mention: It's hot as hell outside!                                                                                                    \n",
       "5192  The weather is perfect maybe this is a sign hmmmm                                                                                         \n",
       "21792 80 degrees tommorrow...good day to hit the beach                                                                                          \n",
       "2489  dang its hot out there..im def stayin in the house..plus gas too high anyway..& i aint tryna go broke..                                   \n",
       "29059 \"Today is a perfect day to go to the library, cause its really warm outside. I wish they would make an outside library.\"                  \n",
       "9608  RT @mention: Small rotating storm NW of Weatherford {link}                                                                                \n",
       "23228 Time for a jog before it starts to storm again. {link} @mention #LinkinPark                                                               \n",
       "10789 Want a real hike come up 2 the HDRT @mention We are about to hike up to this sign. #Hollywood.  Weather is great.                         \n",
       "      sentiment Id  \n",
       "20428  2          NA\n",
       "28636 NA        6136\n",
       "23000 NA         500\n",
       "8223   1          NA\n",
       "7198   2          NA\n",
       "26624 NA        4124\n",
       "26490 NA        3990\n",
       "16736  1          NA\n",
       "8946   3          NA\n",
       "27318 NA        4818\n",
       "21784  3          NA\n",
       "29347 NA        6847\n",
       "23562 NA        1062\n",
       "5192   3          NA\n",
       "21792  3          NA\n",
       "2489   1          NA\n",
       "29059 NA        6559\n",
       "9608   2          NA\n",
       "23228 NA         728\n",
       "10789  3          NA"
      ]
     },
     "metadata": {},
     "output_type": "display_data"
    }
   ],
   "source": [
    "combined[sample(nrow(combined), 20),]"
   ]
  },
  {
   "cell_type": "markdown",
   "metadata": {},
   "source": [
    "# Feature extraction"
   ]
  },
  {
   "cell_type": "markdown",
   "metadata": {},
   "source": [
    "Character counts. List of characters to watch is in the hyper parameter."
   ]
  },
  {
   "cell_type": "code",
   "execution_count": 7,
   "metadata": {},
   "outputs": [],
   "source": [
    "library(stringr)\n",
    "\n",
    "if (!ACTIVATE_CHAR_STRING){CHAR_STRING <- \"!\"}\n",
    "charString_split <- strsplit(CHAR_STRING, \"\")[[1]]\n",
    "\n",
    "for (i in 1:length(charString_split)) {\n",
    "    combined$placeholder_name <- str_count(combined$tweet, fixed(charString_split[[i]]))\n",
    "    names(combined)[names(combined) == \"placeholder_name\"] <- paste(\"char_\", i, sep=\"\")\n",
    "}"
   ]
  },
  {
   "cell_type": "markdown",
   "metadata": {},
   "source": [
    "Phrase counts. List of phrases to watch is in the hyper parameter."
   ]
  },
  {
   "cell_type": "code",
   "execution_count": 8,
   "metadata": {},
   "outputs": [],
   "source": [
    "if (!ACTIVATE_PHARSE_LIST){PHARSE_LIST <- c(\"@mention\", \"{link}\")}\n",
    "\n",
    "for (i in 1:length(PHARSE_LIST)) {\n",
    "    combined$placeholder_name <- str_count(combined$tweet, fixed(PHARSE_LIST[[i]]))\n",
    "    names(combined)[names(combined) == \"placeholder_name\"] <- paste(\"phrase_\", i, sep=\"\")\n",
    "}"
   ]
  },
  {
   "cell_type": "markdown",
   "metadata": {},
   "source": [
    "We track the different character classes as well."
   ]
  },
  {
   "cell_type": "code",
   "execution_count": 9,
   "metadata": {},
   "outputs": [
    {
     "name": "stderr",
     "output_type": "stream",
     "text": [
      "\n",
      "Attaching package: ‘rebus.base’\n",
      "\n",
      "\n",
      "The following object is masked from ‘package:stringr’:\n",
      "\n",
      "    regex\n",
      "\n",
      "\n"
     ]
    }
   ],
   "source": [
    "combined$alphacount  <- as.numeric(ldply(str_match_all(combined$tweet,\"[A-Za-z]\"),length)$V1)\n",
    "combined$uppercount  <- as.numeric(ldply(str_match_all(combined$tweet,\"[A-Z]\"),length)$V1)\n",
    "combined$lowercount  <- as.numeric(ldply(str_match_all(combined$tweet,\"[a-z]\"),length)$V1)\n",
    "combined$numbercount <- as.numeric(ldply(str_match_all(combined$tweet,\"[0-9]\"),length)$V1)\n",
    "combined$propercount <- as.numeric(ldply(str_match_all(combined$tweet,\" [A-Z]\"),length)$V1)\n",
    "combined$length      <- as.numeric(ldply(str_match_all(combined$tweet,\"(.*?)\"),length)$V1)\n",
    "\n",
    "combined$aftercaps   <- combined$uppercount - combined$propercount\n",
    "combined$updowndiff  <- combined$uppercount - combined$lowercount\n",
    "\n",
    "combined$alpharatio  <- combined$alphacount/combined$length\n",
    "combined$numsratio   <- combined$numbercount/combined$length\n",
    "combined$capsratio   <- combined$uppercount/combined$alphacount\n",
    "combined$aftcp_ratio <- combined$aftercaps/combined$length\n",
    "\n",
    "library(rebus.base)\n",
    "vowels <- char_class(\"aeiouAEIOU\")\n",
    "not_vowels <- negated_char_class(\"aeiouAEIOU\")\n",
    "combined$repeatvowels <-as.numeric(ldply(str_match_all(combined$tweet,pattern= one_or_more(vowels)),length)$V1)\n",
    "combined$repeatnonvowels <-as.numeric(ldply(str_match_all(combined$tweet,pattern= one_or_more(not_vowels)),length)$V1)\n",
    "\n",
    "combined <- within(combined, rm(alphacount, uppercount, lowercount, \n",
    "                                numbercount, propercount, aftercaps))"
   ]
  },
  {
   "cell_type": "code",
   "execution_count": 10,
   "metadata": {},
   "outputs": [
    {
     "data": {
      "text/html": [
       "<table>\n",
       "<caption>A data.frame: 5 × 47</caption>\n",
       "<thead>\n",
       "\t<tr><th></th><th scope=col>tweet</th><th scope=col>sentiment</th><th scope=col>Id</th><th scope=col>char_1</th><th scope=col>char_2</th><th scope=col>char_3</th><th scope=col>char_4</th><th scope=col>char_5</th><th scope=col>char_6</th><th scope=col>char_7</th><th scope=col>⋯</th><th scope=col>phrase_5</th><th scope=col>phrase_6</th><th scope=col>length</th><th scope=col>updowndiff</th><th scope=col>alpharatio</th><th scope=col>numsratio</th><th scope=col>capsratio</th><th scope=col>aftcp_ratio</th><th scope=col>repeatvowels</th><th scope=col>repeatnonvowels</th></tr>\n",
       "\t<tr><th></th><th scope=col>&lt;fct&gt;</th><th scope=col>&lt;int&gt;</th><th scope=col>&lt;int&gt;</th><th scope=col>&lt;int&gt;</th><th scope=col>&lt;int&gt;</th><th scope=col>&lt;int&gt;</th><th scope=col>&lt;int&gt;</th><th scope=col>&lt;int&gt;</th><th scope=col>&lt;int&gt;</th><th scope=col>&lt;int&gt;</th><th scope=col>⋯</th><th scope=col>&lt;int&gt;</th><th scope=col>&lt;int&gt;</th><th scope=col>&lt;dbl&gt;</th><th scope=col>&lt;dbl&gt;</th><th scope=col>&lt;dbl&gt;</th><th scope=col>&lt;dbl&gt;</th><th scope=col>&lt;dbl&gt;</th><th scope=col>&lt;dbl&gt;</th><th scope=col>&lt;dbl&gt;</th><th scope=col>&lt;dbl&gt;</th></tr>\n",
       "</thead>\n",
       "<tbody>\n",
       "\t<tr><th scope=row>3377</th><td>Anthem, AZ @mention:00 PM, Temp:71.6&amp;#xB0;F, Wind:0.0 mph NNE, Baro:29.42 inches, Hum: 25, Rain:0.00 in., Hi:92.8&amp;#xB0;F, Lo:63.0&amp;#xB0;F@mention:09 AM</td><td> 2</td><td><span style=white-space:pre-wrap>  NA</span></td><td>0</td><td>0</td><td>3</td><td>0</td><td>0</td><td>3</td><td>0</td><td>⋯</td><td>0</td><td>0</td><td>302</td><td>-26</td><td>0.2384106</td><td>0.089403974</td><td>0.31944444</td><td>0.039735099</td><td>20</td><td>20</td></tr>\n",
       "\t<tr><th scope=row>27978</th><td>This weekend has gone by way too fast.  The best part though is 3 straight days of good golfing weather.                                              </td><td>NA</td><td>5478</td><td>0</td><td>0</td><td>0</td><td>0</td><td>0</td><td>0</td><td>0</td><td>⋯</td><td>0</td><td>0</td><td>210</td><td>-77</td><td>0.3857143</td><td>0.004761905</td><td>0.02469136</td><td>0.004761905</td><td>22</td><td>23</td></tr>\n",
       "\t<tr><th scope=row>5482</th><td>At 11- Very interesting thunderstorm complex racing across Gulf of Mexico tonight. Straight ahead I'll tell you if it will head out way!              </td><td> 2</td><td>  NA</td><td>0</td><td>1</td><td>0</td><td>0</td><td>0</td><td>0</td><td>1</td><td>⋯</td><td>0</td><td>0</td><td>274</td><td>-96</td><td>0.3941606</td><td>0.007299270</td><td>0.05555556</td><td>0.003649635</td><td>34</td><td>34</td></tr>\n",
       "\t<tr><th scope=row>16843</th><td>great weather, chilling on my deck. Nice view {link}                                                                                                  </td><td> 3</td><td>  NA</td><td>0</td><td>0</td><td>0</td><td>0</td><td>0</td><td>0</td><td>0</td><td>⋯</td><td>0</td><td>0</td><td>106</td><td>-38</td><td>0.3773585</td><td>0.000000000</td><td>0.02500000</td><td>0.000000000</td><td>11</td><td>12</td></tr>\n",
       "\t<tr><th scope=row>20841</th><td>#WEATHER: 3:18 am E: 56.3F. Feels F. % Humidity. 1.1MPH East Wind.                                                                                    </td><td> 2</td><td>  NA</td><td>0</td><td>0</td><td>1</td><td>0</td><td>1</td><td>0</td><td>0</td><td>⋯</td><td>0</td><td>0</td><td>134</td><td> -2</td><td>0.2686567</td><td>0.059701493</td><td>0.47222222</td><td>0.082089552</td><td>10</td><td>11</td></tr>\n",
       "</tbody>\n",
       "</table>\n"
      ],
      "text/latex": [
       "A data.frame: 5 × 47\n",
       "\\begin{tabular}{r|lllllllllllllllllllll}\n",
       "  & tweet & sentiment & Id & char\\_1 & char\\_2 & char\\_3 & char\\_4 & char\\_5 & char\\_6 & char\\_7 & ⋯ & phrase\\_5 & phrase\\_6 & length & updowndiff & alpharatio & numsratio & capsratio & aftcp\\_ratio & repeatvowels & repeatnonvowels\\\\\n",
       "  & <fct> & <int> & <int> & <int> & <int> & <int> & <int> & <int> & <int> & <int> & ⋯ & <int> & <int> & <dbl> & <dbl> & <dbl> & <dbl> & <dbl> & <dbl> & <dbl> & <dbl>\\\\\n",
       "\\hline\n",
       "\t3377 & Anthem, AZ @mention:00 PM, Temp:71.6\\&\\#xB0;F, Wind:0.0 mph NNE, Baro:29.42 inches, Hum: 25, Rain:0.00 in., Hi:92.8\\&\\#xB0;F, Lo:63.0\\&\\#xB0;F@mention:09 AM &  2 &   NA & 0 & 0 & 3 & 0 & 0 & 3 & 0 & ⋯ & 0 & 0 & 302 & -26 & 0.2384106 & 0.089403974 & 0.31944444 & 0.039735099 & 20 & 20\\\\\n",
       "\t27978 & This weekend has gone by way too fast.  The best part though is 3 straight days of good golfing weather.                                               & NA & 5478 & 0 & 0 & 0 & 0 & 0 & 0 & 0 & ⋯ & 0 & 0 & 210 & -77 & 0.3857143 & 0.004761905 & 0.02469136 & 0.004761905 & 22 & 23\\\\\n",
       "\t5482 & At 11- Very interesting thunderstorm complex racing across Gulf of Mexico tonight. Straight ahead I'll tell you if it will head out way!               &  2 &   NA & 0 & 1 & 0 & 0 & 0 & 0 & 1 & ⋯ & 0 & 0 & 274 & -96 & 0.3941606 & 0.007299270 & 0.05555556 & 0.003649635 & 34 & 34\\\\\n",
       "\t16843 & great weather, chilling on my deck. Nice view \\{link\\}                                                                                                   &  3 &   NA & 0 & 0 & 0 & 0 & 0 & 0 & 0 & ⋯ & 0 & 0 & 106 & -38 & 0.3773585 & 0.000000000 & 0.02500000 & 0.000000000 & 11 & 12\\\\\n",
       "\t20841 & \\#WEATHER: 3:18 am E: 56.3F. Feels F. \\% Humidity. 1.1MPH East Wind.                                                                                     &  2 &   NA & 0 & 0 & 1 & 0 & 1 & 0 & 0 & ⋯ & 0 & 0 & 134 &  -2 & 0.2686567 & 0.059701493 & 0.47222222 & 0.082089552 & 10 & 11\\\\\n",
       "\\end{tabular}\n"
      ],
      "text/markdown": [
       "\n",
       "A data.frame: 5 × 47\n",
       "\n",
       "| <!--/--> | tweet &lt;fct&gt; | sentiment &lt;int&gt; | Id &lt;int&gt; | char_1 &lt;int&gt; | char_2 &lt;int&gt; | char_3 &lt;int&gt; | char_4 &lt;int&gt; | char_5 &lt;int&gt; | char_6 &lt;int&gt; | char_7 &lt;int&gt; | ⋯ ⋯ | phrase_5 &lt;int&gt; | phrase_6 &lt;int&gt; | length &lt;dbl&gt; | updowndiff &lt;dbl&gt; | alpharatio &lt;dbl&gt; | numsratio &lt;dbl&gt; | capsratio &lt;dbl&gt; | aftcp_ratio &lt;dbl&gt; | repeatvowels &lt;dbl&gt; | repeatnonvowels &lt;dbl&gt; |\n",
       "|---|---|---|---|---|---|---|---|---|---|---|---|---|---|---|---|---|---|---|---|---|---|\n",
       "| 3377 | Anthem, AZ @mention:00 PM, Temp:71.6&amp;#xB0;F, Wind:0.0 mph NNE, Baro:29.42 inches, Hum: 25, Rain:0.00 in., Hi:92.8&amp;#xB0;F, Lo:63.0&amp;#xB0;F@mention:09 AM |  2 |   NA | 0 | 0 | 3 | 0 | 0 | 3 | 0 | ⋯ | 0 | 0 | 302 | -26 | 0.2384106 | 0.089403974 | 0.31944444 | 0.039735099 | 20 | 20 |\n",
       "| 27978 | This weekend has gone by way too fast.  The best part though is 3 straight days of good golfing weather.                                               | NA | 5478 | 0 | 0 | 0 | 0 | 0 | 0 | 0 | ⋯ | 0 | 0 | 210 | -77 | 0.3857143 | 0.004761905 | 0.02469136 | 0.004761905 | 22 | 23 |\n",
       "| 5482 | At 11- Very interesting thunderstorm complex racing across Gulf of Mexico tonight. Straight ahead I'll tell you if it will head out way!               |  2 |   NA | 0 | 1 | 0 | 0 | 0 | 0 | 1 | ⋯ | 0 | 0 | 274 | -96 | 0.3941606 | 0.007299270 | 0.05555556 | 0.003649635 | 34 | 34 |\n",
       "| 16843 | great weather, chilling on my deck. Nice view {link}                                                                                                   |  3 |   NA | 0 | 0 | 0 | 0 | 0 | 0 | 0 | ⋯ | 0 | 0 | 106 | -38 | 0.3773585 | 0.000000000 | 0.02500000 | 0.000000000 | 11 | 12 |\n",
       "| 20841 | #WEATHER: 3:18 am E: 56.3F. Feels F. % Humidity. 1.1MPH East Wind.                                                                                     |  2 |   NA | 0 | 0 | 1 | 0 | 1 | 0 | 0 | ⋯ | 0 | 0 | 134 |  -2 | 0.2686567 | 0.059701493 | 0.47222222 | 0.082089552 | 10 | 11 |\n",
       "\n"
      ],
      "text/plain": [
       "      tweet                                                                                                                                                 \n",
       "3377  Anthem, AZ @mention:00 PM, Temp:71.6&#xB0;F, Wind:0.0 mph NNE, Baro:29.42 inches, Hum: 25, Rain:0.00 in., Hi:92.8&#xB0;F, Lo:63.0&#xB0;F@mention:09 AM\n",
       "27978 This weekend has gone by way too fast.  The best part though is 3 straight days of good golfing weather.                                              \n",
       "5482  At 11- Very interesting thunderstorm complex racing across Gulf of Mexico tonight. Straight ahead I'll tell you if it will head out way!              \n",
       "16843 great weather, chilling on my deck. Nice view {link}                                                                                                  \n",
       "20841 #WEATHER: 3:18 am E: 56.3F. Feels F. % Humidity. 1.1MPH East Wind.                                                                                    \n",
       "      sentiment Id   char_1 char_2 char_3 char_4 char_5 char_6 char_7 ⋯\n",
       "3377   2          NA 0      0      3      0      0      3      0      ⋯\n",
       "27978 NA        5478 0      0      0      0      0      0      0      ⋯\n",
       "5482   2          NA 0      1      0      0      0      0      1      ⋯\n",
       "16843  3          NA 0      0      0      0      0      0      0      ⋯\n",
       "20841  2          NA 0      0      1      0      1      0      0      ⋯\n",
       "      phrase_5 phrase_6 length updowndiff alpharatio numsratio   capsratio \n",
       "3377  0        0        302    -26        0.2384106  0.089403974 0.31944444\n",
       "27978 0        0        210    -77        0.3857143  0.004761905 0.02469136\n",
       "5482  0        0        274    -96        0.3941606  0.007299270 0.05555556\n",
       "16843 0        0        106    -38        0.3773585  0.000000000 0.02500000\n",
       "20841 0        0        134     -2        0.2686567  0.059701493 0.47222222\n",
       "      aftcp_ratio repeatvowels repeatnonvowels\n",
       "3377  0.039735099 20           20             \n",
       "27978 0.004761905 22           23             \n",
       "5482  0.003649635 34           34             \n",
       "16843 0.000000000 11           12             \n",
       "20841 0.082089552 10           11             "
      ]
     },
     "metadata": {},
     "output_type": "display_data"
    }
   ],
   "source": [
    "combined[sample(nrow(combined), 5),]"
   ]
  },
  {
   "cell_type": "markdown",
   "metadata": {},
   "source": [
    "# Text cleaning"
   ]
  },
  {
   "cell_type": "code",
   "execution_count": 11,
   "metadata": {},
   "outputs": [
    {
     "name": "stderr",
     "output_type": "stream",
     "text": [
      "Loading required package: NLP\n",
      "\n",
      "\n",
      "Attaching package: ‘NLP’\n",
      "\n",
      "\n",
      "The following object is masked from ‘package:httr’:\n",
      "\n",
      "    content\n",
      "\n",
      "\n"
     ]
    },
    {
     "data": {
      "text/html": [
       "<ol class=list-inline>\n",
       "\t<li>'removeNumbers'</li>\n",
       "\t<li>'removePunctuation'</li>\n",
       "\t<li>'removeWords'</li>\n",
       "\t<li>'stemDocument'</li>\n",
       "\t<li>'stripWhitespace'</li>\n",
       "</ol>\n"
      ],
      "text/latex": [
       "\\begin{enumerate*}\n",
       "\\item 'removeNumbers'\n",
       "\\item 'removePunctuation'\n",
       "\\item 'removeWords'\n",
       "\\item 'stemDocument'\n",
       "\\item 'stripWhitespace'\n",
       "\\end{enumerate*}\n"
      ],
      "text/markdown": [
       "1. 'removeNumbers'\n",
       "2. 'removePunctuation'\n",
       "3. 'removeWords'\n",
       "4. 'stemDocument'\n",
       "5. 'stripWhitespace'\n",
       "\n",
       "\n"
      ],
      "text/plain": [
       "[1] \"removeNumbers\"     \"removePunctuation\" \"removeWords\"      \n",
       "[4] \"stemDocument\"      \"stripWhitespace\"  "
      ]
     },
     "metadata": {},
     "output_type": "display_data"
    }
   ],
   "source": [
    "library(tm)\n",
    "corpus <- Corpus(VectorSource(combined$tweet))\n",
    "getTransformations()"
   ]
  },
  {
   "cell_type": "code",
   "execution_count": 12,
   "metadata": {},
   "outputs": [
    {
     "name": "stderr",
     "output_type": "stream",
     "text": [
      "Warning message in tm_map.SimpleCorpus(corpus, function(x) iconv(enc2utf8(x), sub = \"byte\")):\n",
      "“transformation drops documents”\n",
      "Warning message in tm_map.SimpleCorpus(corpus, content_transformer(function(x) iconv(enc2utf8(x), :\n",
      "“transformation drops documents”\n",
      "Warning message in tm_map.SimpleCorpus(corpus, content_transformer(tolower)):\n",
      "“transformation drops documents”\n",
      "Warning message in tm_map.SimpleCorpus(corpus, removeWords, stopwords(\"english\")):\n",
      "“transformation drops documents”\n",
      "Warning message in tm_map.SimpleCorpus(corpus, removeWords, c(\"xkcd, make, get, well, goodbye\")):\n",
      "“transformation drops documents”\n",
      "Warning message in tm_map.SimpleCorpus(corpus, removePunctuation):\n",
      "“transformation drops documents”\n"
     ]
    },
    {
     "name": "stdout",
     "output_type": "stream",
     "text": [
      "0.358 sec elapsed\n"
     ]
    }
   ],
   "source": [
    "tic()\n",
    "corpus <- tm_map(corpus, function(x) iconv(enc2utf8(x), sub = \"byte\"))\n",
    "corpus <- tm_map(corpus, content_transformer(function(x) iconv(enc2utf8(x), sub = \"bytes\")))\n",
    "corpus <- tm_map(corpus,content_transformer(tolower))\n",
    "corpus <- tm_map(corpus,removeWords,stopwords(\"english\"))\n",
    "corpus <- tm_map(corpus,removeWords,c(\"xkcd, make, get, well, goodbye\"))\n",
    "corpus <- tm_map(corpus,removePunctuation)\n",
    "toc()"
   ]
  },
  {
   "cell_type": "markdown",
   "metadata": {},
   "source": [
    "# Text to matrix"
   ]
  },
  {
   "cell_type": "code",
   "execution_count": 13,
   "metadata": {},
   "outputs": [
    {
     "name": "stderr",
     "output_type": "stream",
     "text": [
      "Warning message in tm_map.SimpleCorpus(corpus, stemDocument):\n",
      "“transformation drops documents”\n"
     ]
    }
   ],
   "source": [
    "library(SnowballC)\n",
    "corpus <- tm_map(corpus,stemDocument)"
   ]
  },
  {
   "cell_type": "code",
   "execution_count": 14,
   "metadata": {},
   "outputs": [],
   "source": [
    "dtm <- DocumentTermMatrix(corpus)"
   ]
  },
  {
   "cell_type": "code",
   "execution_count": 15,
   "metadata": {},
   "outputs": [],
   "source": [
    "dtm <- removeSparseTerms(dtm, DTM_SPARSITY)\n",
    "sparse <- as.data.frame(as.matrix(dtm))\n",
    "colnames(sparse) <- make.names(colnames(sparse))"
   ]
  },
  {
   "cell_type": "code",
   "execution_count": 16,
   "metadata": {},
   "outputs": [
    {
     "name": "stderr",
     "output_type": "stream",
     "text": [
      "\n",
      "Attaching package: ‘dplyr’\n",
      "\n",
      "\n",
      "The following objects are masked from ‘package:plyr’:\n",
      "\n",
      "    arrange, count, desc, failwith, id, mutate, rename, summarise,\n",
      "    summarize\n",
      "\n",
      "\n",
      "The following objects are masked from ‘package:stats’:\n",
      "\n",
      "    filter, lag\n",
      "\n",
      "\n",
      "The following objects are masked from ‘package:base’:\n",
      "\n",
      "    intersect, setdiff, setequal, union\n",
      "\n",
      "\n"
     ]
    }
   ],
   "source": [
    "library(dplyr)\n",
    "combined_features <- within(combined, rm(tweet, Id))\n",
    "sparse <- bind_cols(combined_features, sparse)"
   ]
  },
  {
   "cell_type": "code",
   "execution_count": 17,
   "metadata": {},
   "outputs": [],
   "source": [
    "# write.csv(sparse, \"the_dataset.csv\", row.names=FALSE)\n",
    "# sparse[1:10,]"
   ]
  },
  {
   "cell_type": "markdown",
   "metadata": {},
   "source": [
    "# MODEL EXPERIMENTATION"
   ]
  },
  {
   "cell_type": "code",
   "execution_count": 18,
   "metadata": {},
   "outputs": [
    {
     "name": "stderr",
     "output_type": "stream",
     "text": [
      "randomForest 4.6-14\n",
      "\n",
      "Type rfNews() to see new features/changes/bug fixes.\n",
      "\n",
      "\n",
      "Attaching package: ‘randomForest’\n",
      "\n",
      "\n",
      "The following object is masked from ‘package:dplyr’:\n",
      "\n",
      "    combine\n",
      "\n",
      "\n"
     ]
    },
    {
     "data": {
      "text/plain": [
       "                Length Class  Mode     \n",
       "call                5  -none- call     \n",
       "type                1  -none- character\n",
       "predicted       22500  factor numeric  \n",
       "err.rate         2000  -none- numeric  \n",
       "confusion          12  -none- numeric  \n",
       "votes           67500  matrix numeric  \n",
       "oob.times       22500  -none- numeric  \n",
       "classes             3  -none- character\n",
       "importance       3814  -none- numeric  \n",
       "importanceSD        0  -none- NULL     \n",
       "localImportance     0  -none- NULL     \n",
       "proximity           0  -none- NULL     \n",
       "ntree               1  -none- numeric  \n",
       "mtry                1  -none- numeric  \n",
       "forest             14  -none- list     \n",
       "y               22500  factor numeric  \n",
       "test                0  -none- NULL     \n",
       "inbag               0  -none- NULL     \n",
       "terms               3  terms  call     "
      ]
     },
     "metadata": {},
     "output_type": "display_data"
    },
    {
     "name": "stdout",
     "output_type": "stream",
     "text": [
      "30086.662 sec elapsed\n"
     ]
    }
   ],
   "source": [
    "tic()\n",
    "library(randomForest)\n",
    "model <- randomForest(as.factor(sentiment)~.,data=sparse[1:22500,], \n",
    "                      ntree=RF_NTREE, nodesize=RF_NODESIZE)\n",
    "summary(model)\n",
    "toc()"
   ]
  },
  {
   "cell_type": "markdown",
   "metadata": {},
   "source": [
    "# Model analysis\n",
    "We analyse the characteristics of the model."
   ]
  },
  {
   "cell_type": "code",
   "execution_count": 19,
   "metadata": {},
   "outputs": [
    {
     "data": {
      "text/html": [
       "<table>\n",
       "<caption>A matrix: 3 × 4 of type dbl</caption>\n",
       "<thead>\n",
       "\t<tr><th></th><th scope=col>1</th><th scope=col>2</th><th scope=col>3</th><th scope=col>class.error</th></tr>\n",
       "</thead>\n",
       "<tbody>\n",
       "\t<tr><th scope=row>1</th><td>5832</td><td> 340</td><td> 780</td><td>0.1611047</td></tr>\n",
       "\t<tr><th scope=row>2</th><td>1042</td><td>6564</td><td> 355</td><td>0.1754805</td></tr>\n",
       "\t<tr><th scope=row>3</th><td> 791</td><td> 183</td><td>6613</td><td>0.1283775</td></tr>\n",
       "</tbody>\n",
       "</table>\n"
      ],
      "text/latex": [
       "A matrix: 3 × 4 of type dbl\n",
       "\\begin{tabular}{r|llll}\n",
       "  & 1 & 2 & 3 & class.error\\\\\n",
       "\\hline\n",
       "\t1 & 5832 &  340 &  780 & 0.1611047\\\\\n",
       "\t2 & 1042 & 6564 &  355 & 0.1754805\\\\\n",
       "\t3 &  791 &  183 & 6613 & 0.1283775\\\\\n",
       "\\end{tabular}\n"
      ],
      "text/markdown": [
       "\n",
       "A matrix: 3 × 4 of type dbl\n",
       "\n",
       "| <!--/--> | 1 | 2 | 3 | class.error |\n",
       "|---|---|---|---|---|\n",
       "| 1 | 5832 |  340 |  780 | 0.1611047 |\n",
       "| 2 | 1042 | 6564 |  355 | 0.1754805 |\n",
       "| 3 |  791 |  183 | 6613 | 0.1283775 |\n",
       "\n"
      ],
      "text/plain": [
       "  1    2    3    class.error\n",
       "1 5832  340  780 0.1611047  \n",
       "2 1042 6564  355 0.1754805  \n",
       "3  791  183 6613 0.1283775  "
      ]
     },
     "metadata": {},
     "output_type": "display_data"
    },
    {
     "ename": "ERROR",
     "evalue": "Error in eval(expr, envir, enclos): object 'trn_idx' not found\n",
     "output_type": "error",
     "traceback": [
      "Error in eval(expr, envir, enclos): object 'trn_idx' not found\nTraceback:\n"
     ]
    }
   ],
   "source": [
    "model$confusion\n",
    "training_accuracy = sum(diag(model$confusion))/length(trn_idx)\n",
    "training_accuracy"
   ]
  },
  {
   "cell_type": "code",
   "execution_count": 20,
   "metadata": {},
   "outputs": [
    {
     "data": {
      "image/png": "[encoded data removed]"
     },
     "metadata": {
      "image/png": {
       "height": 420,
       "width": 420
      }
     },
     "output_type": "display_data"
    }
   ],
   "source": [
    "varImpPlot(model)"
   ]
  },
  {
   "cell_type": "markdown",
   "metadata": {},
   "source": [
    "# Prediction on the test set"
   ]
  },
  {
   "cell_type": "code",
   "execution_count": 21,
   "metadata": {},
   "outputs": [],
   "source": [
    "pred_test <- predict(model,newdata=sparse[22501:30000,],type=\"prob\")\n",
    "pred_test_matrix <- pred_test"
   ]
  },
  {
   "cell_type": "code",
   "execution_count": 22,
   "metadata": {},
   "outputs": [],
   "source": [
    "pred_test_class <- c()\n",
    "\n",
    "for (i in 1:nrow(pred_test_matrix)){\n",
    "    class_with_max_prob <- names(pred_test_matrix[i,][pred_test_matrix[i,] == max(pred_test_matrix[i,])])[[1]]\n",
    "    pred_test_class <- append(pred_test_class, class_with_max_prob)\n",
    "    if (length(pred_test_class) != i){print(i)}\n",
    "}"
   ]
  },
  {
   "cell_type": "code",
   "execution_count": 23,
   "metadata": {},
   "outputs": [
    {
     "data": {
      "text/html": [
       "<table>\n",
       "<caption>A data.frame: 20 × 3</caption>\n",
       "<thead>\n",
       "\t<tr><th></th><th scope=col>Id</th><th scope=col>tweet</th><th scope=col>sentiment</th></tr>\n",
       "\t<tr><th></th><th scope=col>&lt;int&gt;</th><th scope=col>&lt;fct&gt;</th><th scope=col>&lt;chr&gt;</th></tr>\n",
       "</thead>\n",
       "<tbody>\n",
       "\t<tr><th scope=row>5601</th><td>5601</td><td>SUNSHINE SUNSHINE SUNSHINE                                                                                                                 </td><td>3</td></tr>\n",
       "\t<tr><th scope=row>5030</th><td>5030</td><td>A cute family on this rainy dreary day.  Working on their gallery.  And about 10 other things  :) {link}                                   </td><td>3</td></tr>\n",
       "\t<tr><th scope=row>5594</th><td>5594</td><td>#WEATHER:  11:54 am: 79.9F. Feels F. % Humidity. 3.3MPH East Wind.                                                                         </td><td>2</td></tr>\n",
       "\t<tr><th scope=row>3249</th><td>3249</td><td>Loves working Outside in this Weather                                                                                                      </td><td>3</td></tr>\n",
       "\t<tr><th scope=row>7256</th><td>7256</td><td>RT @mention: \"The art of knowing is knowing what to ignore.\" Rumi #WuWednesday Enjoy the sunshine today, Wu-Disciples!  Peace!             </td><td>3</td></tr>\n",
       "\t<tr><th scope=row>1798</th><td>1798</td><td>weather.com update:  Current Weather Conditions In Las Vegas, NV (89119) {link}                                                            </td><td>2</td></tr>\n",
       "\t<tr><th scope=row>5150</th><td>5150</td><td>Dear Thunderstorms, please go away so my 3 shows will come on tonight! plus i hate storms haha..sincerly, devoted idol, glee. #thevioce fan</td><td>1</td></tr>\n",
       "\t<tr><th scope=row>308</th><td> 308</td><td>I need to go back to #Miami....this weather and this place is draining the life out of me.                                                 </td><td>1</td></tr>\n",
       "\t<tr><th scope=row>1575</th><td>1575</td><td>Severe Thunderstorm Warning for Comanche, Hamilton, and Mills County in TX until 9:00am CDT. #txwx                                         </td><td>2</td></tr>\n",
       "\t<tr><th scope=row>1188</th><td>1188</td><td>Perfect weather calls for a perfect sweet - peach mango bubble tea, vegan options available!!                                              </td><td>3</td></tr>\n",
       "\t<tr><th scope=row>639</th><td> 639</td><td>Sunny day at Turner Field with @mention. Let's hope Uggla has found his bat.  {link}                                                       </td><td>3</td></tr>\n",
       "\t<tr><th scope=row>6629</th><td>6629</td><td>The weather is going to be perfect for @mention @mention! See you there tonight {link}                                                     </td><td>3</td></tr>\n",
       "\t<tr><th scope=row>5950</th><td>5950</td><td>Storm with history of tornadoes that has now moved Waupaca Co...has now weakened considerably...however..gusty... {link}                   </td><td>2</td></tr>\n",
       "\t<tr><th scope=row>2138</th><td>2138</td><td>@mention I drive by there everyday. I live about 5 minutes from the Kansas speedway. The weather changes huge between work and home.       </td><td>1</td></tr>\n",
       "\t<tr><th scope=row>4661</th><td>4661</td><td>RT @mention: RT @mention: RT @mention: RT @mention: Totally in love with the weather today :)                                              </td><td>3</td></tr>\n",
       "\t<tr><th scope=row>825</th><td> 825</td><td>RT @mention: Classroom's light off + Music + Rainy Weather = the best.  :)                                                                 </td><td>3</td></tr>\n",
       "\t<tr><th scope=row>4110</th><td>4110</td><td>The National Weather Service has issued a severe thunderstorm warning until 5pm.                                                           </td><td>2</td></tr>\n",
       "\t<tr><th scope=row>2429</th><td>2429</td><td>Dear spring: We are not impressed. #snow #nmwx                                                                                             </td><td>1</td></tr>\n",
       "\t<tr><th scope=row>5445</th><td>5445</td><td>Where the chuff has the sunshine gone?! It was hotter at 6am then it is now dammit!                                                        </td><td>3</td></tr>\n",
       "\t<tr><th scope=row>623</th><td> 623</td><td>@mention Pittsburgh has awful weather so honestly I'm use to it. I was thinking Spring as well plus my birthday is in May.                 </td><td>1</td></tr>\n",
       "</tbody>\n",
       "</table>\n"
      ],
      "text/latex": [
       "A data.frame: 20 × 3\n",
       "\\begin{tabular}{r|lll}\n",
       "  & Id & tweet & sentiment\\\\\n",
       "  & <int> & <fct> & <chr>\\\\\n",
       "\\hline\n",
       "\t5601 & 5601 & SUNSHINE SUNSHINE SUNSHINE                                                                                                                  & 3\\\\\n",
       "\t5030 & 5030 & A cute family on this rainy dreary day.  Working on their gallery.  And about 10 other things  :) \\{link\\}                                    & 3\\\\\n",
       "\t5594 & 5594 & \\#WEATHER:  11:54 am: 79.9F. Feels F. \\% Humidity. 3.3MPH East Wind.                                                                          & 2\\\\\n",
       "\t3249 & 3249 & Loves working Outside in this Weather                                                                                                       & 3\\\\\n",
       "\t7256 & 7256 & RT @mention: \"The art of knowing is knowing what to ignore.\" Rumi \\#WuWednesday Enjoy the sunshine today, Wu-Disciples!  Peace!              & 3\\\\\n",
       "\t1798 & 1798 & weather.com update:  Current Weather Conditions In Las Vegas, NV (89119) \\{link\\}                                                             & 2\\\\\n",
       "\t5150 & 5150 & Dear Thunderstorms, please go away so my 3 shows will come on tonight! plus i hate storms haha..sincerly, devoted idol, glee. \\#thevioce fan & 1\\\\\n",
       "\t308 &  308 & I need to go back to \\#Miami....this weather and this place is draining the life out of me.                                                  & 1\\\\\n",
       "\t1575 & 1575 & Severe Thunderstorm Warning for Comanche, Hamilton, and Mills County in TX until 9:00am CDT. \\#txwx                                          & 2\\\\\n",
       "\t1188 & 1188 & Perfect weather calls for a perfect sweet - peach mango bubble tea, vegan options available!!                                               & 3\\\\\n",
       "\t639 &  639 & Sunny day at Turner Field with @mention. Let's hope Uggla has found his bat.  \\{link\\}                                                        & 3\\\\\n",
       "\t6629 & 6629 & The weather is going to be perfect for @mention @mention! See you there tonight \\{link\\}                                                      & 3\\\\\n",
       "\t5950 & 5950 & Storm with history of tornadoes that has now moved Waupaca Co...has now weakened considerably...however..gusty... \\{link\\}                    & 2\\\\\n",
       "\t2138 & 2138 & @mention I drive by there everyday. I live about 5 minutes from the Kansas speedway. The weather changes huge between work and home.        & 1\\\\\n",
       "\t4661 & 4661 & RT @mention: RT @mention: RT @mention: RT @mention: Totally in love with the weather today :)                                               & 3\\\\\n",
       "\t825 &  825 & RT @mention: Classroom's light off + Music + Rainy Weather = the best.  :)                                                                  & 3\\\\\n",
       "\t4110 & 4110 & The National Weather Service has issued a severe thunderstorm warning until 5pm.                                                            & 2\\\\\n",
       "\t2429 & 2429 & Dear spring: We are not impressed. \\#snow \\#nmwx                                                                                              & 1\\\\\n",
       "\t5445 & 5445 & Where the chuff has the sunshine gone?! It was hotter at 6am then it is now dammit!                                                         & 3\\\\\n",
       "\t623 &  623 & @mention Pittsburgh has awful weather so honestly I'm use to it. I was thinking Spring as well plus my birthday is in May.                  & 1\\\\\n",
       "\\end{tabular}\n"
      ],
      "text/markdown": [
       "\n",
       "A data.frame: 20 × 3\n",
       "\n",
       "| <!--/--> | Id &lt;int&gt; | tweet &lt;fct&gt; | sentiment &lt;chr&gt; |\n",
       "|---|---|---|---|\n",
       "| 5601 | 5601 | SUNSHINE SUNSHINE SUNSHINE                                                                                                                  | 3 |\n",
       "| 5030 | 5030 | A cute family on this rainy dreary day.  Working on their gallery.  And about 10 other things  :) {link}                                    | 3 |\n",
       "| 5594 | 5594 | #WEATHER:  11:54 am: 79.9F. Feels F. % Humidity. 3.3MPH East Wind.                                                                          | 2 |\n",
       "| 3249 | 3249 | Loves working Outside in this Weather                                                                                                       | 3 |\n",
       "| 7256 | 7256 | RT @mention: \"The art of knowing is knowing what to ignore.\" Rumi #WuWednesday Enjoy the sunshine today, Wu-Disciples!  Peace!              | 3 |\n",
       "| 1798 | 1798 | weather.com update:  Current Weather Conditions In Las Vegas, NV (89119) {link}                                                             | 2 |\n",
       "| 5150 | 5150 | Dear Thunderstorms, please go away so my 3 shows will come on tonight! plus i hate storms haha..sincerly, devoted idol, glee. #thevioce fan | 1 |\n",
       "| 308 |  308 | I need to go back to #Miami....this weather and this place is draining the life out of me.                                                  | 1 |\n",
       "| 1575 | 1575 | Severe Thunderstorm Warning for Comanche, Hamilton, and Mills County in TX until 9:00am CDT. #txwx                                          | 2 |\n",
       "| 1188 | 1188 | Perfect weather calls for a perfect sweet - peach mango bubble tea, vegan options available!!                                               | 3 |\n",
       "| 639 |  639 | Sunny day at Turner Field with @mention. Let's hope Uggla has found his bat.  {link}                                                        | 3 |\n",
       "| 6629 | 6629 | The weather is going to be perfect for @mention @mention! See you there tonight {link}                                                      | 3 |\n",
       "| 5950 | 5950 | Storm with history of tornadoes that has now moved Waupaca Co...has now weakened considerably...however..gusty... {link}                    | 2 |\n",
       "| 2138 | 2138 | @mention I drive by there everyday. I live about 5 minutes from the Kansas speedway. The weather changes huge between work and home.        | 1 |\n",
       "| 4661 | 4661 | RT @mention: RT @mention: RT @mention: RT @mention: Totally in love with the weather today :)                                               | 3 |\n",
       "| 825 |  825 | RT @mention: Classroom's light off + Music + Rainy Weather = the best.  :)                                                                  | 3 |\n",
       "| 4110 | 4110 | The National Weather Service has issued a severe thunderstorm warning until 5pm.                                                            | 2 |\n",
       "| 2429 | 2429 | Dear spring: We are not impressed. #snow #nmwx                                                                                              | 1 |\n",
       "| 5445 | 5445 | Where the chuff has the sunshine gone?! It was hotter at 6am then it is now dammit!                                                         | 3 |\n",
       "| 623 |  623 | @mention Pittsburgh has awful weather so honestly I'm use to it. I was thinking Spring as well plus my birthday is in May.                  | 1 |\n",
       "\n"
      ],
      "text/plain": [
       "     Id  \n",
       "5601 5601\n",
       "5030 5030\n",
       "5594 5594\n",
       "3249 3249\n",
       "7256 7256\n",
       "1798 1798\n",
       "5150 5150\n",
       "308   308\n",
       "1575 1575\n",
       "1188 1188\n",
       "639   639\n",
       "6629 6629\n",
       "5950 5950\n",
       "2138 2138\n",
       "4661 4661\n",
       "825   825\n",
       "4110 4110\n",
       "2429 2429\n",
       "5445 5445\n",
       "623   623\n",
       "     tweet                                                                                                                                      \n",
       "5601 SUNSHINE SUNSHINE SUNSHINE                                                                                                                 \n",
       "5030 A cute family on this rainy dreary day.  Working on their gallery.  And about 10 other things  :) {link}                                   \n",
       "5594 #WEATHER:  11:54 am: 79.9F. Feels F. % Humidity. 3.3MPH East Wind.                                                                         \n",
       "3249 Loves working Outside in this Weather                                                                                                      \n",
       "7256 RT @mention: \"The art of knowing is knowing what to ignore.\" Rumi #WuWednesday Enjoy the sunshine today, Wu-Disciples!  Peace!             \n",
       "1798 weather.com update:  Current Weather Conditions In Las Vegas, NV (89119) {link}                                                            \n",
       "5150 Dear Thunderstorms, please go away so my 3 shows will come on tonight! plus i hate storms haha..sincerly, devoted idol, glee. #thevioce fan\n",
       "308  I need to go back to #Miami....this weather and this place is draining the life out of me.                                                 \n",
       "1575 Severe Thunderstorm Warning for Comanche, Hamilton, and Mills County in TX until 9:00am CDT. #txwx                                         \n",
       "1188 Perfect weather calls for a perfect sweet - peach mango bubble tea, vegan options available!!                                              \n",
       "639  Sunny day at Turner Field with @mention. Let's hope Uggla has found his bat.  {link}                                                       \n",
       "6629 The weather is going to be perfect for @mention @mention! See you there tonight {link}                                                     \n",
       "5950 Storm with history of tornadoes that has now moved Waupaca Co...has now weakened considerably...however..gusty... {link}                   \n",
       "2138 @mention I drive by there everyday. I live about 5 minutes from the Kansas speedway. The weather changes huge between work and home.       \n",
       "4661 RT @mention: RT @mention: RT @mention: RT @mention: Totally in love with the weather today :)                                              \n",
       "825  RT @mention: Classroom's light off + Music + Rainy Weather = the best.  :)                                                                 \n",
       "4110 The National Weather Service has issued a severe thunderstorm warning until 5pm.                                                           \n",
       "2429 Dear spring: We are not impressed. #snow #nmwx                                                                                             \n",
       "5445 Where the chuff has the sunshine gone?! It was hotter at 6am then it is now dammit!                                                        \n",
       "623  @mention Pittsburgh has awful weather so honestly I'm use to it. I was thinking Spring as well plus my birthday is in May.                 \n",
       "     sentiment\n",
       "5601 3        \n",
       "5030 3        \n",
       "5594 2        \n",
       "3249 3        \n",
       "7256 3        \n",
       "1798 2        \n",
       "5150 1        \n",
       "308  1        \n",
       "1575 2        \n",
       "1188 3        \n",
       "639  3        \n",
       "6629 3        \n",
       "5950 2        \n",
       "2138 1        \n",
       "4661 3        \n",
       "825  3        \n",
       "4110 2        \n",
       "2429 1        \n",
       "5445 3        \n",
       "623  1        "
      ]
     },
     "metadata": {},
     "output_type": "display_data"
    }
   ],
   "source": [
    "test$sentiment <- pred_test_class\n",
    "test[sample(nrow(test), 20), ]"
   ]
  },
  {
   "cell_type": "code",
   "execution_count": 24,
   "metadata": {},
   "outputs": [],
   "source": [
    "test <- subset(test, select=c(\"Id\", \"sentiment\"))\n",
    "write.csv(test, \"submission.csv\", row.names=FALSE)"
   ]
  },
  {
   "cell_type": "code",
   "execution_count": 25,
   "metadata": {},
   "outputs": [
    {
     "data": {
      "text/plain": [
       "\n",
       "   1    2    3 \n",
       "2588 2342 2570 "
      ]
     },
     "metadata": {},
     "output_type": "display_data"
    }
   ],
   "source": [
    "table(test$sentiment)"
   ]
  },
  {
   "cell_type": "code",
   "execution_count": null,
   "metadata": {},
   "outputs": [],
   "source": []
  }
 ],
 "metadata": {
  "kernelspec": {
   "display_name": "R [conda env:my-r-env]",
   "language": "R",
   "name": "conda-env-my-r-env-r"
  },
  "language_info": {
   "codemirror_mode": "r",
   "file_extension": ".r",
   "mimetype": "text/x-r-source",
   "name": "R",
   "pygments_lexer": "r",
   "version": "3.5.1"
  }
 },
 "nbformat": 4,
 "nbformat_minor": 1
}
