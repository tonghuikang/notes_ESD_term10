{
 "cells": [
  {
   "cell_type": "code",
   "execution_count": 1,
   "metadata": {},
   "outputs": [
    {
     "name": "stderr",
     "output_type": "stream",
     "text": [
      "┌ Info: Recompiling stale cache file /Users/stefano_galelli/.julia/compiled/v1.0/Ipopt/yMQMo.ji for Ipopt [b6b21f68-93f8-5de0-b562-5493be1d77c9]\n",
      "└ @ Base loading.jl:1187\n"
     ]
    },
    {
     "data": {
      "text/latex": [
       "$$ \\begin{alignat*}{1}\\text{feasibility}\\\\\n",
       "\\text{Subject to} \\quad\\end{alignat*}\n",
       " $$"
      ],
      "text/plain": [
       "A JuMP Model\n",
       "Feasibility problem with:\n",
       "Variables: 0\n",
       "Model mode: AUTOMATIC\n",
       "CachingOptimizer state: EMPTY_OPTIMIZER\n",
       "Solver name: Ipopt"
      ]
     },
     "execution_count": 1,
     "metadata": {},
     "output_type": "execute_result"
    }
   ],
   "source": [
    "# LOAD PACKAGES\n",
    "# -------------\n",
    "using JuMP  # Need to say it whenever we use JuMP\n",
    "using Ipopt # Loading the Ipopt solver for nonlinear programs\n",
    "\n",
    "# MODEL CONSTRUCTION\n",
    "# ------------------\n",
    "model1 = Model(with_optimizer(Ipopt.Optimizer, max_cpu_time=60.0)) "
   ]
  },
  {
   "cell_type": "code",
   "execution_count": 2,
   "metadata": {},
   "outputs": [
    {
     "data": {
      "text/plain": [
       "1×20 Array{Int64,2}:\n",
       " 34  35  33  32  35  31  34  35  34  …  32  30  34  33  30  32  35  30  33"
      ]
     },
     "execution_count": 2,
     "metadata": {},
     "output_type": "execute_result"
    }
   ],
   "source": [
    "# INPUT DATA\n",
    "# ----------\n",
    "\n",
    "# Number of decision variables (i.e., prices to set)\n",
    "n = 20\n",
    "\n",
    "# Parameters\n",
    "valuation = [46.7 46.5 46.9 43.8 48.8 42.7 46.4 39.8 37.6 33.5 27.5 35.4 33.5 37.6 40.8 35.2 38.7 42.3 36.8 41.8]\n",
    "# baseprice = [45.5 46 45 43 47 42 45 39 37 33 27 35 33 37 39 35 38 41 36 40]\n",
    "cost      = [34 35 33 32 35 31 34 35 34 29 24 32 30 34 33 30 32 35 30 33]"
   ]
  },
  {
   "cell_type": "code",
   "execution_count": 3,
   "metadata": {},
   "outputs": [
    {
     "data": {
      "text/plain": [
       "1-dimensional DenseAxisArray{VariableRef,1,...} with index sets:\n",
       "    Dimension 1, 0:20\n",
       "And data, a 21-element Array{VariableRef,1}:\n",
       " x[0] \n",
       " x[1] \n",
       " x[2] \n",
       " x[3] \n",
       " x[4] \n",
       " x[5] \n",
       " x[6] \n",
       " x[7] \n",
       " x[8] \n",
       " x[9] \n",
       " x[10]\n",
       " x[11]\n",
       " x[12]\n",
       " x[13]\n",
       " x[14]\n",
       " x[15]\n",
       " x[16]\n",
       " x[17]\n",
       " x[18]\n",
       " x[19]\n",
       " x[20]"
      ]
     },
     "execution_count": 3,
     "metadata": {},
     "output_type": "execute_result"
    }
   ],
   "source": [
    "# VARIABLES\n",
    "# ---------\n",
    "\n",
    "# We have n (20) continuous decision variables\n",
    "@variable(model1,x[0:n] >= 0)"
   ]
  },
  {
   "cell_type": "code",
   "execution_count": 4,
   "metadata": {},
   "outputs": [
    {
     "data": {
      "text/latex": [
       "$ x_{0} + x_{1} + x_{2} + x_{3} + x_{4} + x_{5} + x_{6} + x_{7} + x_{8} + x_{9} + x_{10} + x_{11} + x_{12} + x_{13} + x_{14} + x_{15} + x_{16} + x_{17} + x_{18} + x_{19} + x_{20} = 1.0 $"
      ],
      "text/plain": [
       "x[0] + x[1] + x[2] + x[3] + x[4] + x[5] + x[6] + x[7] + x[8] + x[9] + x[10] + x[11] + x[12] + x[13] + x[14] + x[15] + x[16] + x[17] + x[18] + x[19] + x[20] = 1.0"
      ]
     },
     "execution_count": 4,
     "metadata": {},
     "output_type": "execute_result"
    }
   ],
   "source": [
    "# CONSTRAINTS\n",
    "# -----------\n",
    "\n",
    "# ...\n",
    "@constraint(model1,sum(x) == 1)"
   ]
  },
  {
   "cell_type": "code",
   "execution_count": 6,
   "metadata": {
    "scrolled": true
   },
   "outputs": [
    {
     "name": "stdout",
     "output_type": "stream",
     "text": [
      "The optimization problem to be solved is:\n",
      "Max (1.0 - x[0]) * log(x[0]) + (((46.7 - log(x[1])) - 34.0) * x[1] + ((46.5 - log(x[2])) - 35.0) * x[2] + ((46.9 - log(x[3])) - 33.0) * x[3] + ((43.8 - log(x[4])) - 32.0) * x[4] + ((48.8 - log(x[5])) - 35.0) * x[5] + ((42.7 - log(x[6])) - 31.0) * x[6] + ((46.4 - log(x[7])) - 34.0) * x[7] + ((39.8 - log(x[8])) - 35.0) * x[8] + ((37.6 - log(x[9])) - 34.0) * x[9] + ((33.5 - log(x[10])) - 29.0) * x[10] + ((27.5 - log(x[11])) - 24.0) * x[11] + ((35.4 - log(x[12])) - 32.0) * x[12] + ((33.5 - log(x[13])) - 30.0) * x[13] + ((37.6 - log(x[14])) - 34.0) * x[14] + ((40.8 - log(x[15])) - 33.0) * x[15] + ((35.2 - log(x[16])) - 30.0) * x[16] + ((38.7 - log(x[17])) - 32.0) * x[17] + ((42.3 - log(x[18])) - 35.0) * x[18] + ((36.8 - log(x[19])) - 30.0) * x[19] + ((41.8 - log(x[20])) - 33.0) * x[20])\n",
      "Subject to\n",
      " x[0] + x[1] + x[2] + x[3] + x[4] + x[5] + x[6] + x[7] + x[8] + x[9] + x[10] + x[11] + x[12] + x[13] + x[14] + x[15] + x[16] + x[17] + x[18] + x[19] + x[20] = 1.0\n",
      " x[0] ≥ 0.0\n",
      " x[1] ≥ 0.0\n",
      " x[2] ≥ 0.0\n",
      " x[3] ≥ 0.0\n",
      " x[4] ≥ 0.0\n",
      " x[5] ≥ 0.0\n",
      " x[6] ≥ 0.0\n",
      " x[7] ≥ 0.0\n",
      " x[8] ≥ 0.0\n",
      " x[9] ≥ 0.0\n",
      " x[10] ≥ 0.0\n",
      " x[11] ≥ 0.0\n",
      " x[12] ≥ 0.0\n",
      " x[13] ≥ 0.0\n",
      " x[14] ≥ 0.0\n",
      " x[15] ≥ 0.0\n",
      " x[16] ≥ 0.0\n",
      " x[17] ≥ 0.0\n",
      " x[18] ≥ 0.0\n",
      " x[19] ≥ 0.0\n",
      " x[20] ≥ 0.0\n"
     ]
    }
   ],
   "source": [
    "# OBJECTIVE\n",
    "# ---------\n",
    "\n",
    "# Objective function\n",
    "@NLobjective(model1, Max, (1-x[0])*log(x[0]) + sum((valuation[i]-log(x[i])-cost[i])*x[i] for i = 1:n))\n",
    "\n",
    "# PRINT THE MODEL IN A HUMAN-READABLE FORMAT\n",
    "# ------------------------------------------\n",
    "println(\"The optimization problem to be solved is:\")\n",
    "print(model1) # Shows the model constructed in a human-readable form"
   ]
  },
  {
   "cell_type": "code",
   "execution_count": 8,
   "metadata": {},
   "outputs": [
    {
     "name": "stdout",
     "output_type": "stream",
     "text": [
      "\n",
      "******************************************************************************\n",
      "This program contains Ipopt, a library for large-scale nonlinear optimization.\n",
      " Ipopt is released as open source code under the Eclipse Public License (EPL).\n",
      "         For more information visit http://projects.coin-or.org/Ipopt\n",
      "******************************************************************************\n",
      "\n",
      "This is Ipopt version 3.12.10, running with linear solver mumps.\n",
      "NOTE: Other linear solvers might be more efficient (see Ipopt documentation).\n",
      "\n",
      "Number of nonzeros in equality constraint Jacobian...:       21\n",
      "Number of nonzeros in inequality constraint Jacobian.:        0\n",
      "Number of nonzeros in Lagrangian Hessian.............:       21\n",
      "\n",
      "Total number of variables............................:       21\n",
      "                     variables with only lower bounds:       21\n",
      "                variables with lower and upper bounds:        0\n",
      "                     variables with only upper bounds:        0\n",
      "Total number of equality constraints.................:        1\n",
      "Total number of inequality constraints...............:        0\n",
      "        inequality constraints with only lower bounds:        0\n",
      "   inequality constraints with lower and upper bounds:        0\n",
      "        inequality constraints with only upper bounds:        0\n",
      "\n",
      "iter    objective    inf_pr   inf_du lg(mu)  ||d||  lg(rg) alpha_du alpha_pr  ls\n",
      "   0  2.0650878e+00 7.90e-01 8.77e-07  -1.0 0.00e+00    -  0.00e+00 0.00e+00   0\n",
      "   1 -7.4904759e+00 2.22e-16 1.77e+00  -1.7 3.76e-02    -  3.58e-01 1.00e+00f  1\n",
      "   2 -7.4905110e+00 0.00e+00 2.00e-07  -1.7 1.73e-06    -  1.00e+00 1.00e+00h  1\n",
      "   3 -7.4905112e+00 2.22e-16 1.50e-09  -3.8 4.80e-09    -  1.00e+00 1.00e+00f  1\n",
      "   4 -7.4905785e+00 1.11e-16 1.84e-11  -5.7 1.86e-06    -  1.00e+00 1.00e+00h  1\n",
      "   5 -7.4960873e+00 2.22e-16 7.17e-08  -8.6 1.53e-04    -  9.98e-01 1.00e+00h  1\n",
      "   6 -8.7278070e+00 1.11e-16 3.91e-08  -8.6 2.70e-02    -  1.00e+00 1.00e+00h  1\n",
      "   7 -9.6567851e+00 2.22e-16 1.28e-09  -8.6 4.44e-02    -  1.00e+00 1.00e+00h  1\n",
      "   8 -1.0662811e+01 3.33e-16 1.91e-08 -12.9 5.99e-02    -  6.65e-01 1.00e+00h  1\n",
      "   9 -1.1331065e+01 2.22e-16 1.34e-08 -12.9 1.07e-01    -  6.55e-01 1.00e+00h  1\n",
      "iter    objective    inf_pr   inf_du lg(mu)  ||d||  lg(rg) alpha_du alpha_pr  ls\n",
      "  10 -1.1445580e+01 2.22e-16 5.08e-09 -12.9 3.48e-02    -  1.00e+00 1.00e+00h  1\n",
      "  11 -1.1472038e+01 2.22e-16 5.87e-09 -12.9 9.74e-03    -  1.00e+00 1.00e+00h  1\n",
      "  12 -1.1475923e+01 4.44e-16 3.71e-09 -12.9 1.60e-03    -  1.00e+00 1.00e+00h  1\n",
      "  13 -1.1476570e+01 2.22e-16 2.22e-09 -12.9 4.30e-04    -  1.00e+00 1.00e+00h  1\n",
      "\n",
      "Number of Iterations....: 13\n",
      "\n",
      "                                   (scaled)                 (unscaled)\n",
      "Objective...............:  -1.1476570114348640e-07   -1.1476570114348640e+01\n",
      "Dual infeasibility......:   2.2167229391404084e-09    2.2167229391404084e-01\n",
      "Constraint violation....:   2.2204460492503131e-16    2.2204460492503131e-16\n",
      "Complementarity.........:   7.5344503290500296e-13    7.5344503290500288e-05\n",
      "Overall NLP error.......:   2.2167229391404084e-09    2.2167229391404084e-01\n",
      "\n",
      "\n",
      "Number of objective function evaluations             = 14\n",
      "Number of objective gradient evaluations             = 14\n",
      "Number of equality constraint evaluations            = 14\n",
      "Number of inequality constraint evaluations          = 0\n",
      "Number of equality constraint Jacobian evaluations   = 1\n",
      "Number of inequality constraint Jacobian evaluations = 0\n",
      "Number of Lagrangian Hessian evaluations             = 13\n",
      "Total CPU secs in IPOPT (w/o function evaluations)   =      2.931\n",
      "Total CPU secs in NLP function evaluations           =      0.684\n",
      "\n",
      "EXIT: Optimal Solution Found.\n"
     ]
    }
   ],
   "source": [
    "# SOLVE IT\n",
    "# --------\n",
    "\n",
    "status = optimize!(model1) # solves the model  "
   ]
  },
  {
   "cell_type": "code",
   "execution_count": 10,
   "metadata": {},
   "outputs": [
    {
     "name": "stdout",
     "output_type": "stream",
     "text": [
      "Objective value: 11.47657011434864\n",
      "x = 1-dimensional DenseAxisArray{Float64,1,...} with index sets:\n",
      "    Dimension 1, 0:20\n",
      "And data, a 21-element Array{Float64,1}:\n",
      " 0.08014691237228606   \n",
      " 0.10015733957204573   \n",
      " 0.03017557455284188   \n",
      " 0.33250497580543764   \n",
      " 0.04072837858207433   \n",
      " 0.3008641375081491    \n",
      " 0.03685375427281159   \n",
      " 0.07420163293009      \n",
      " 7.152529588871565e-5  \n",
      " 3.386019775310494e-5  \n",
      " 5.867788355014142e-5  \n",
      " 3.197978022844322e-5  \n",
      " 3.0226991780061382e-5 \n",
      " 3.197978022844321e-5  \n",
      " 3.386019775310494e-5  \n",
      " 0.0007931082286610426 \n",
      " 9.424528629122535e-5  \n",
      " 0.00030028227885666884\n",
      " 0.0005040737631604099 \n",
      " 0.000326676689522365  \n",
      " 0.002056798030590181  \n",
      "46.477119009979624\n",
      "47.47682854770492\n",
      "45.47720653038562\n",
      "44.476936243265094\n",
      "47.47720256275217\n",
      "43.4769038618928\n",
      "46.47707519812269\n",
      "46.8215654583952\n",
      "45.36937641717599\n",
      "40.71955374920842\n",
      "35.326512798954134\n",
      "43.282881341419944\n",
      "41.326512798954134\n",
      "45.36937641717599\n",
      "45.415656941831244\n",
      "41.94571582192784\n",
      "44.28689367239835\n",
      "47.36889402134062\n",
      "42.30264566944294\n",
      "45.46271093574044\n"
     ]
    }
   ],
   "source": [
    "# DISPLAY THE RESULTS\n",
    "# -------------------\n",
    "\n",
    "println(\"Objective value: \", JuMP.objective_value(model1)) \n",
    "println(\"x = \", JuMP.value.(x)) \n",
    "for i = 1:n\n",
    "   println(valuation[i]-log(JuMP.value.(x[i]))+log(JuMP.value.(x[0])))\n",
    "end "
   ]
  }
 ],
 "metadata": {
  "kernelspec": {
   "display_name": "Julia 1.0.1",
   "language": "julia",
   "name": "julia-1.0"
  },
  "language_info": {
   "file_extension": ".jl",
   "mimetype": "application/julia",
   "name": "julia",
   "version": "1.0.1"
  }
 },
 "nbformat": 4,
 "nbformat_minor": 2
}
